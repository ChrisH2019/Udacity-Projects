{
 "cells": [
  {
   "cell_type": "markdown",
   "metadata": {
    "graffitiCellId": "id_wdug686"
   },
   "source": [
    "> TIP: Remember, code with dotted lines has a tool tip and voice walkthrough!"
   ]
  },
  {
   "cell_type": "code",
   "execution_count": 4,
   "metadata": {
    "graffitiCellId": "id_hy3x04l"
   },
   "outputs": [],
   "source": [
    "# Import Package\n",
    "from cryptography.fernet import Fernet"
   ]
  },
  {
   "cell_type": "code",
   "execution_count": 5,
   "metadata": {
    "graffitiCellId": "id_ojhrtp0"
   },
   "outputs": [
    {
     "name": "stdout",
     "output_type": "stream",
     "text": [
      "b'Pq2lx1QTO0T0fqdmGft3OcK5MKQjl1Xdftkd12pVnB8='\n"
     ]
    }
   ],
   "source": [
    "# Generate a Key and Instantiate a Fernet Instance\n",
    "key = Fernet.generate_key()\n",
    "f = Fernet(key)\n",
    "print(key)"
   ]
  },
  {
   "cell_type": "code",
   "execution_count": 6,
   "metadata": {
    "graffitiCellId": "id_6c7hjw4"
   },
   "outputs": [],
   "source": [
    "# Define our message\n",
    "plaintext = b\"encryption is very useful\""
   ]
  },
  {
   "cell_type": "code",
   "execution_count": 7,
   "metadata": {
    "graffitiCellId": "id_595rfih"
   },
   "outputs": [
    {
     "name": "stdout",
     "output_type": "stream",
     "text": [
      "b'gAAAAABfCJoi3stzXJsMH2wmxZZse1mOSBxrOJcvIJm02oYj_KMjLNkFqRAHl-cPYiBHFb0DMW9hgeZYGdYh1HbOeRXfkHs9iRn5l0IMA9jDxM0AM5xtVLc='\n"
     ]
    }
   ],
   "source": [
    "# Encrypt\n",
    "ciphertext = f.encrypt(plaintext)\n",
    "print(ciphertext)"
   ]
  },
  {
   "cell_type": "code",
   "execution_count": 8,
   "metadata": {
    "graffitiCellId": "id_v8jg1f4"
   },
   "outputs": [
    {
     "name": "stdout",
     "output_type": "stream",
     "text": [
      "b'encryption is very useful'\n"
     ]
    }
   ],
   "source": [
    "# Decrypt\n",
    "decryptedtext = f.decrypt(ciphertext)\n",
    "print(decryptedtext)"
   ]
  },
  {
   "cell_type": "code",
   "execution_count": null,
   "metadata": {
    "graffitiCellId": "id_fshhgm1"
   },
   "outputs": [],
   "source": []
  }
 ],
 "metadata": {
  "graffiti": {
   "firstAuthorId": "10489997357",
   "id": "id_10h5nnh",
   "language": "EN"
  },
  "kernelspec": {
   "display_name": "Python 3",
   "language": "python",
   "name": "python3"
  },
  "language_info": {
   "codemirror_mode": {
    "name": "ipython",
    "version": 3
   },
   "file_extension": ".py",
   "mimetype": "text/x-python",
   "name": "python",
   "nbconvert_exporter": "python",
   "pygments_lexer": "ipython3",
   "version": "3.6.3"
  }
 },
 "nbformat": 4,
 "nbformat_minor": 2
}
