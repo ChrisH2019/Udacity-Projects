{
 "cells": [
  {
   "cell_type": "markdown",
   "metadata": {
    "graffitiCellId": "id_o0dej5p"
   },
   "source": [
    "# Generating Rainbow Tables"
   ]
  },
  {
   "cell_type": "markdown",
   "metadata": {
    "graffitiCellId": "id_avc2zc5"
   },
   "source": [
    "## Set Up"
   ]
  },
  {
   "cell_type": "code",
   "execution_count": null,
   "metadata": {
    "graffitiCellId": "id_saz53pc"
   },
   "outputs": [],
   "source": [
    "# Load the NIST list of 10,000 most commonly used passwords\n",
    "with open('nist_10000.txt', newline='') as bad_passwords:\n",
    "    nist_bad = bad_passwords.read().split('\\n')\n",
    "print(nist_bad[1:10])"
   ]
  },
  {
   "cell_type": "code",
   "execution_count": null,
   "metadata": {
    "graffitiCellId": "id_y8qxu49"
   },
   "outputs": [],
   "source": [
    "# The following data is a normalized simplified user table\n",
    "# Imagine this information was stolen or leaked\n",
    "leaked_users_table = {\n",
    "    'jamie': {\n",
    "        'username': 'jamie',\n",
    "        'role': 'subscriber',\n",
    "        'md5': '203ad5ffa1d7c650ad681fdff3965cd2'\n",
    "    }, \n",
    "    'amanda': {\n",
    "        'username': 'amanda',\n",
    "        'role': 'administrator',\n",
    "        'md5': '315eb115d98fcbad39ffc5edebd669c9'\n",
    "    }, \n",
    "    'chiaki': {\n",
    "        'username': 'chiaki',\n",
    "        'role': 'subscriber',\n",
    "        'md5': '941c76b34f8687e46af0d94c167d1403'\n",
    "    }, \n",
    "    'viraj': {\n",
    "        'username': 'viraj',\n",
    "        'role': 'employee',\n",
    "        'md5': '319f4d26e3c536b5dd871bb2c52e3178'\n",
    "    },\n",
    "}"
   ]
  },
  {
   "cell_type": "code",
   "execution_count": null,
   "metadata": {
    "graffitiCellId": "id_aqs4v1f"
   },
   "outputs": [],
   "source": [
    "# import the hashlib\n",
    "import hashlib \n",
    "# example hash\n",
    "word = 'blueberry'\n",
    "hashlib.md5(word.encode()).hexdigest()"
   ]
  },
  {
   "cell_type": "markdown",
   "metadata": {
    "graffitiCellId": "id_pcvysx7"
   },
   "source": [
    "## Your Task!\n",
    "### Use the information above and hashlib to:\n",
    "1. Create a python dictionary for each word in the `nist_bad` list. For each word, the dictionary should use the hashlib.md5 string as a key, and the word as the value.\n",
    "2. Iterate over each user in the `leaked_users_table` dictionary and attempt to use the rainbow table to crack their password."
   ]
  },
  {
   "cell_type": "code",
   "execution_count": 4,
   "metadata": {
    "graffitiCellId": "id_eyqjhd9"
   },
   "outputs": [],
   "source": [
    "# Create a rainbow table\n",
    "rainbow_table = {}\n",
    "for password in nist_bad:\n",
    "    md5 = hashlib.md5(password.encode()).hexdigest()\n",
    "    rainbow_table[md5] = password"
   ]
  },
  {
   "cell_type": "code",
   "execution_count": 10,
   "metadata": {
    "graffitiCellId": "id_r7ad6wd"
   },
   "outputs": [
    {
     "name": "stdout",
     "output_type": "stream",
     "text": [
      "203ad5ffa1d7c650ad681fdff3965cd2 hello1\n",
      "315eb115d98fcbad39ffc5edebd669c9 qweasdzxc\n",
      "319f4d26e3c536b5dd871bb2c52e3178 PASSWORD\n"
     ]
    }
   ],
   "source": [
    "# Crack user password\n",
    "for user in leaked_users_table:\n",
    "    for md5 in rainbow_table:\n",
    "        if md5 == leaked_users_table[user]['md5']:\n",
    "            print(md5, rainbow_table[md5])"
   ]
  },
  {
   "cell_type": "code",
   "execution_count": 11,
   "metadata": {
    "graffitiCellId": "id_r7srxv6"
   },
   "outputs": [
    {
     "name": "stdout",
     "output_type": "stream",
     "text": [
      "jamie:\thello1\n",
      "amanda:\tqweasdzxc\n",
      "chiaki:\t******* hash not found in rainbow table\n",
      "viraj:\tPASSWORD\n"
     ]
    }
   ],
   "source": [
    "# RAINBOW TABLE SOLUTION\n",
    "rainbow_table = {}\n",
    "for word in nist_bad:\n",
    "    hashed_word = hashlib.md5(word.encode()).hexdigest()\n",
    "    rainbow_table[hashed_word] = word\n",
    "    \n",
    "# Use the Rainbow table to determine the plain text password\n",
    "for user in leaked_users_table.keys():\n",
    "    try:\n",
    "        print(user + \":\\t\" + rainbow_table[leaked_users_table[user]['md5']])\n",
    "    except KeyError:\n",
    "        print(user + \":\\t\" + '******* hash not found in rainbow table')"
   ]
  },
  {
   "cell_type": "markdown",
   "metadata": {
    "graffitiCellId": "id_uypmj06"
   },
   "source": [
    "<span class=\"graffiti-highlight graffiti-id_uypmj06-id_r7srxv6\"><i></i><button>I'm Stuck! Show Solution</button></span>"
   ]
  }
 ],
 "metadata": {
  "graffiti": {
   "firstAuthorId": "10489997357",
   "id": "id_lgj666v",
   "language": "EN"
  },
  "kernelspec": {
   "display_name": "Python 3",
   "language": "python",
   "name": "python3"
  },
  "language_info": {
   "codemirror_mode": {
    "name": "ipython",
    "version": 3
   },
   "file_extension": ".py",
   "mimetype": "text/x-python",
   "name": "python",
   "nbconvert_exporter": "python",
   "pygments_lexer": "ipython3",
   "version": "3.6.3"
  }
 },
 "nbformat": 4,
 "nbformat_minor": 2
}
