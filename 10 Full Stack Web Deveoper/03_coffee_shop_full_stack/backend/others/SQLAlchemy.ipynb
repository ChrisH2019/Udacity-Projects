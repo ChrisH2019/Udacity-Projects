{
 "cells": [
  {
   "cell_type": "code",
   "execution_count": 5,
   "metadata": {},
   "outputs": [],
   "source": [
    "import os\n",
    "from sqlalchemy import create_engine, Column, String, Integer\n",
    "from sqlalchemy.ext.declarative import declarative_base\n",
    "from sqlalchemy.orm import sessionmaker"
   ]
  },
  {
   "cell_type": "code",
   "execution_count": 2,
   "metadata": {},
   "outputs": [],
   "source": [
    "database_filename = 'playground.db'\n",
    "project_dir = os.path.dirname(os.path.abspath(''))\n",
    "database_path = 'sqlite:///{}'.format(os.path.join(project_dir, database_filename))\n",
    "\n",
    "engine = create_engine(database_path)"
   ]
  },
  {
   "cell_type": "code",
   "execution_count": 9,
   "metadata": {},
   "outputs": [
    {
     "data": {
      "text/plain": [
       "Table('users', MetaData(bind=None), Column('id', Variant(), table=<users>, primary_key=True, nullable=False), Column('username', String(length=80), table=<users>), Column('password', String(length=180), table=<users>), schema=None)"
      ]
     },
     "execution_count": 9,
     "metadata": {},
     "output_type": "execute_result"
    }
   ],
   "source": [
    "Base = declarative_base()\n",
    "\n",
    "class User(Base):\n",
    "    __tablename__ = 'users'\n",
    "    # Autoincremeting, unique primary key\n",
    "    id = Column(Integer().with_variant(Integer, 'sqlite'), primary_key=True)\n",
    "    # String Title\n",
    "    username = Column(String(80), unique=True)\n",
    "    # the ingredients blob\n",
    "    password = Column(String(180), nullable=True)\n",
    "    \n",
    "    def __repr__(self):\n",
    "        return self.username + ': ' + self.password\n",
    "    \n",
    "User.metadata.create_all(engine)\n",
    "\n",
    "User.__table__"
   ]
  },
  {
   "cell_type": "code",
   "execution_count": 6,
   "metadata": {},
   "outputs": [],
   "source": [
    "# Init a session\n",
    "Session = sessionmaker(bind=engine)\n",
    "Session.configure(bind=engine)\n",
    "session = Session()"
   ]
  },
  {
   "cell_type": "code",
   "execution_count": 7,
   "metadata": {},
   "outputs": [],
   "source": [
    "# Add a new user\n",
    "session.rollback()\n",
    "\n",
    "new_user = User(username=\"James\", password=\"superstrongpassword\")\n",
    "session.add(new_user)\n",
    "session.commit()"
   ]
  },
  {
   "cell_type": "code",
   "execution_count": 10,
   "metadata": {},
   "outputs": [
    {
     "name": "stdout",
     "output_type": "stream",
     "text": [
      "James: superstrongpassword\n"
     ]
    }
   ],
   "source": [
    "# Fetch a user from the database\n",
    "db_user = session.query(User).filter_by(username=\"James\").first()\n",
    "print(db_user)"
   ]
  },
  {
   "cell_type": "code",
   "execution_count": 26,
   "metadata": {},
   "outputs": [],
   "source": [
    "# Connect to database.db\n",
    "database_filename = 'database.db'\n",
    "database_path = 'sqlite:///{}'.format(os.path.join(os.getcwd(), database_filename))\n",
    "\n",
    "engine = create_engine(database_path)"
   ]
  },
  {
   "cell_type": "code",
   "execution_count": 27,
   "metadata": {},
   "outputs": [],
   "source": [
    "# Init a session\n",
    "Session = sessionmaker(bind=engine)\n",
    "Session.configure(bind=engine)\n",
    "session = Session()"
   ]
  },
  {
   "cell_type": "code",
   "execution_count": 28,
   "metadata": {},
   "outputs": [
    {
     "name": "stdout",
     "output_type": "stream",
     "text": [
      "Abe: badpassword\n"
     ]
    }
   ],
   "source": [
    "# Query username 'Abe'\n",
    "session.rollback()\n",
    "\n",
    "db_user = session.query(User).filter_by(username=\"Abe\").first()\n",
    "print(db_user)"
   ]
  }
 ],
 "metadata": {
  "kernelspec": {
   "display_name": "Python 3",
   "language": "python",
   "name": "python3"
  },
  "language_info": {
   "codemirror_mode": {
    "name": "ipython",
    "version": 3
   },
   "file_extension": ".py",
   "mimetype": "text/x-python",
   "name": "python",
   "nbconvert_exporter": "python",
   "pygments_lexer": "ipython3",
   "version": "3.7.6"
  }
 },
 "nbformat": 4,
 "nbformat_minor": 4
}
