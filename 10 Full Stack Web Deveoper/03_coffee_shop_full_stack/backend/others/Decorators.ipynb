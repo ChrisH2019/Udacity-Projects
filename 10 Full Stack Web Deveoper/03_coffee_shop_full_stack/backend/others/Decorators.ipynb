{
 "cells": [
  {
   "cell_type": "code",
   "execution_count": 1,
   "metadata": {},
   "outputs": [],
   "source": [
    "from functools import wraps"
   ]
  },
  {
   "cell_type": "code",
   "execution_count": 3,
   "metadata": {},
   "outputs": [
    {
     "name": "stdout",
     "output_type": "stream",
     "text": [
      "Jimmy\n"
     ]
    }
   ],
   "source": [
    "def print_name(name):\n",
    "    print(name)\n",
    "    \n",
    "print_name('Jimmy')"
   ]
  },
  {
   "cell_type": "code",
   "execution_count": 5,
   "metadata": {},
   "outputs": [
    {
     "name": "stdout",
     "output_type": "stream",
     "text": [
      "Hello!\n",
      "Sandy\n"
     ]
    }
   ],
   "source": [
    "# Add a simple decorator to inject a greeting\n",
    "def add_greeting(f):\n",
    "    @wraps(f)\n",
    "    def wrapper(*args, **kwards):\n",
    "        print('Hello!')\n",
    "        return f(*args, **kwards)\n",
    "    return wrapper\n",
    "\n",
    "@add_greeting\n",
    "def print_name(name):\n",
    "    print(name)\n",
    "    \n",
    "print_name(\"Sandy\")"
   ]
  },
  {
   "cell_type": "code",
   "execution_count": 6,
   "metadata": {},
   "outputs": [
    {
     "name": "stdout",
     "output_type": "stream",
     "text": [
      "What's up!\n",
      "Kathy\n"
     ]
    }
   ],
   "source": [
    "# Add some complexity in the form of a parameter\n",
    "def add_greeting(greeting=''):\n",
    "    def add_greeting_decorator(f):\n",
    "        @wraps(f)\n",
    "        def wrapper(*args, **kwargs):\n",
    "            print(greeting)\n",
    "            return f(*args, **kwargs)\n",
    "        return wrapper\n",
    "    return add_greeting_decorator\n",
    "\n",
    "@add_greeting(\"What's up!\")\n",
    "def print_name(name):\n",
    "    print(name)\n",
    "    \n",
    "print_name('Kathy')"
   ]
  },
  {
   "cell_type": "code",
   "execution_count": 7,
   "metadata": {},
   "outputs": [
    {
     "name": "stdout",
     "output_type": "stream",
     "text": [
      "Yo!\n",
      "Yo!\n",
      "Abe\n"
     ]
    }
   ],
   "source": [
    "# Pass information back to the wrapped method\n",
    "def add_greeting(greeting=''):\n",
    "    def add_greeting_decorator(f):\n",
    "        @wraps(f)\n",
    "        def wrapper(*args, **kwargs):\n",
    "            print(greeting)\n",
    "            return f(greeting, *args, **kwargs)\n",
    "        return wrapper\n",
    "    return add_greeting_decorator\n",
    "\n",
    "@add_greeting(\"Yo!\")\n",
    "def print_name(greeting, name):\n",
    "    print(greeting)\n",
    "    print(name)\n",
    "    \n",
    "print_name(\"Abe\")"
   ]
  }
 ],
 "metadata": {
  "kernelspec": {
   "display_name": "Python 3",
   "language": "python",
   "name": "python3"
  },
  "language_info": {
   "codemirror_mode": {
    "name": "ipython",
    "version": 3
   },
   "file_extension": ".py",
   "mimetype": "text/x-python",
   "name": "python",
   "nbconvert_exporter": "python",
   "pygments_lexer": "ipython3",
   "version": "3.7.6"
  }
 },
 "nbformat": 4,
 "nbformat_minor": 4
}
