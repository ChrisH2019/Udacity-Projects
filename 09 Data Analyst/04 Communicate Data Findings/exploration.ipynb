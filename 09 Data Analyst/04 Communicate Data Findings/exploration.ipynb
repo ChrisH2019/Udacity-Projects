{
 "cells": [
  {
   "cell_type": "markdown",
   "metadata": {},
   "source": [
    "# Exploration of Loan Data from Prosper"
   ]
  },
  {
   "cell_type": "markdown",
   "metadata": {},
   "source": [
    "## Introduction"
   ]
  },
  {
   "cell_type": "markdown",
   "metadata": {},
   "source": [
    "#### Dataset Overview\n",
    "\n",
    "This data set contains **113,937** loans with **81** variables on each loan, including loan amount, borrower rate (or interest rate), current loan status, borrower income, and many others. This <a href=\"https://docs.google.com/spreadsheets/d/1gDyi_L4UvIrLTEC6Wri5nbaMmkGmLQBk-Yx3z0XDEtI/edit#gid=0\">data dictionary</a> explains the variables in the data set.\n",
    "\n",
    "#### Questions try to be addressed:\n",
    "* What factors affect a loan’s outcome status?\n",
    "* What affects the borrower’s APR?\n",
    "* Are there differences between loans depending on how large the original loan amount was?\n",
    "\n",
    "#### Journey to the Exploration of this Dataset:\n",
    "\n",
    "* [Step 1](#s1): Data Wrangling\n",
    "    * [Step 1.1](#s1.1): Gathering\n",
    "    * [Step 1.2](#s1.2): Accessing\n",
    "    * [Step 1.3](#s1.3): Cleaning\n",
    "\n",
    "* [Step 2](#s2): Data Exploration\n",
    "    * [Step 2.1](#s2.1): Univariate Exploration\n",
    "    * [Step 2.2](#s2.2): Bibariate Exploration\n",
    "    * [Step 2.3](#s2.3): Multivariate Exploration"
   ]
  },
  {
   "cell_type": "code",
   "execution_count": 1,
   "metadata": {},
   "outputs": [],
   "source": [
    "import numpy as np\n",
    "import pandas as pd\n",
    "import matplotlib.pyplot as plt\n",
    "import seaborn as sns\n",
    "\n",
    "%matplotlib inline"
   ]
  },
  {
   "cell_type": "code",
   "execution_count": 2,
   "metadata": {},
   "outputs": [],
   "source": [
    "pd.set_option('display.max_rows', None)\n",
    "pd.set_option('display.max_columns', None)"
   ]
  },
  {
   "cell_type": "markdown",
   "metadata": {},
   "source": [
    "<a id=\"s1\"></a>\n",
    "## Step 1: Data Wrangling"
   ]
  },
  {
   "cell_type": "markdown",
   "metadata": {},
   "source": [
    "<a id=\"s1.1\"></a>\n",
    "### Step 1.1: Gathering"
   ]
  },
  {
   "cell_type": "code",
   "execution_count": 3,
   "metadata": {},
   "outputs": [],
   "source": [
    "# Load the loan data into DataFrame\n",
    "loan_url = 'https://s3.amazonaws.com/udacity-hosted-downloads/ud651/prosperLoanData.csv'\n",
    "loan = pd.read_csv(loan_url)"
   ]
  },
  {
   "cell_type": "markdown",
   "metadata": {},
   "source": [
    "<a id=\"s1.2\"></a>\n",
    "### Step 1.2: Accessing"
   ]
  },
  {
   "cell_type": "code",
   "execution_count": 4,
   "metadata": {},
   "outputs": [
    {
     "data": {
      "text/plain": [
       "(113937, 81)"
      ]
     },
     "execution_count": 4,
     "metadata": {},
     "output_type": "execute_result"
    }
   ],
   "source": [
    "# Dataset size\n",
    "loan.shape"
   ]
  },
  {
   "cell_type": "code",
   "execution_count": 5,
   "metadata": {},
   "outputs": [
    {
     "data": {
      "text/html": [
       "<div>\n",
       "<style scoped>\n",
       "    .dataframe tbody tr th:only-of-type {\n",
       "        vertical-align: middle;\n",
       "    }\n",
       "\n",
       "    .dataframe tbody tr th {\n",
       "        vertical-align: top;\n",
       "    }\n",
       "\n",
       "    .dataframe thead th {\n",
       "        text-align: right;\n",
       "    }\n",
       "</style>\n",
       "<table border=\"1\" class=\"dataframe\">\n",
       "  <thead>\n",
       "    <tr style=\"text-align: right;\">\n",
       "      <th></th>\n",
       "      <th>ListingKey</th>\n",
       "      <th>ListingNumber</th>\n",
       "      <th>ListingCreationDate</th>\n",
       "      <th>CreditGrade</th>\n",
       "      <th>Term</th>\n",
       "      <th>LoanStatus</th>\n",
       "      <th>ClosedDate</th>\n",
       "      <th>BorrowerAPR</th>\n",
       "      <th>BorrowerRate</th>\n",
       "      <th>LenderYield</th>\n",
       "      <th>EstimatedEffectiveYield</th>\n",
       "      <th>EstimatedLoss</th>\n",
       "      <th>EstimatedReturn</th>\n",
       "      <th>ProsperRating (numeric)</th>\n",
       "      <th>ProsperRating (Alpha)</th>\n",
       "      <th>ProsperScore</th>\n",
       "      <th>ListingCategory (numeric)</th>\n",
       "      <th>BorrowerState</th>\n",
       "      <th>Occupation</th>\n",
       "      <th>EmploymentStatus</th>\n",
       "      <th>EmploymentStatusDuration</th>\n",
       "      <th>IsBorrowerHomeowner</th>\n",
       "      <th>CurrentlyInGroup</th>\n",
       "      <th>GroupKey</th>\n",
       "      <th>DateCreditPulled</th>\n",
       "      <th>CreditScoreRangeLower</th>\n",
       "      <th>CreditScoreRangeUpper</th>\n",
       "      <th>FirstRecordedCreditLine</th>\n",
       "      <th>CurrentCreditLines</th>\n",
       "      <th>OpenCreditLines</th>\n",
       "      <th>TotalCreditLinespast7years</th>\n",
       "      <th>OpenRevolvingAccounts</th>\n",
       "      <th>OpenRevolvingMonthlyPayment</th>\n",
       "      <th>InquiriesLast6Months</th>\n",
       "      <th>TotalInquiries</th>\n",
       "      <th>CurrentDelinquencies</th>\n",
       "      <th>AmountDelinquent</th>\n",
       "      <th>DelinquenciesLast7Years</th>\n",
       "      <th>PublicRecordsLast10Years</th>\n",
       "      <th>PublicRecordsLast12Months</th>\n",
       "      <th>RevolvingCreditBalance</th>\n",
       "      <th>BankcardUtilization</th>\n",
       "      <th>AvailableBankcardCredit</th>\n",
       "      <th>TotalTrades</th>\n",
       "      <th>TradesNeverDelinquent (percentage)</th>\n",
       "      <th>TradesOpenedLast6Months</th>\n",
       "      <th>DebtToIncomeRatio</th>\n",
       "      <th>IncomeRange</th>\n",
       "      <th>IncomeVerifiable</th>\n",
       "      <th>StatedMonthlyIncome</th>\n",
       "      <th>LoanKey</th>\n",
       "      <th>TotalProsperLoans</th>\n",
       "      <th>TotalProsperPaymentsBilled</th>\n",
       "      <th>OnTimeProsperPayments</th>\n",
       "      <th>ProsperPaymentsLessThanOneMonthLate</th>\n",
       "      <th>ProsperPaymentsOneMonthPlusLate</th>\n",
       "      <th>ProsperPrincipalBorrowed</th>\n",
       "      <th>ProsperPrincipalOutstanding</th>\n",
       "      <th>ScorexChangeAtTimeOfListing</th>\n",
       "      <th>LoanCurrentDaysDelinquent</th>\n",
       "      <th>LoanFirstDefaultedCycleNumber</th>\n",
       "      <th>LoanMonthsSinceOrigination</th>\n",
       "      <th>LoanNumber</th>\n",
       "      <th>LoanOriginalAmount</th>\n",
       "      <th>LoanOriginationDate</th>\n",
       "      <th>LoanOriginationQuarter</th>\n",
       "      <th>MemberKey</th>\n",
       "      <th>MonthlyLoanPayment</th>\n",
       "      <th>LP_CustomerPayments</th>\n",
       "      <th>LP_CustomerPrincipalPayments</th>\n",
       "      <th>LP_InterestandFees</th>\n",
       "      <th>LP_ServiceFees</th>\n",
       "      <th>LP_CollectionFees</th>\n",
       "      <th>LP_GrossPrincipalLoss</th>\n",
       "      <th>LP_NetPrincipalLoss</th>\n",
       "      <th>LP_NonPrincipalRecoverypayments</th>\n",
       "      <th>PercentFunded</th>\n",
       "      <th>Recommendations</th>\n",
       "      <th>InvestmentFromFriendsCount</th>\n",
       "      <th>InvestmentFromFriendsAmount</th>\n",
       "      <th>Investors</th>\n",
       "    </tr>\n",
       "  </thead>\n",
       "  <tbody>\n",
       "    <tr>\n",
       "      <th>28062</th>\n",
       "      <td>356A35720335104603B0146</td>\n",
       "      <td>720875</td>\n",
       "      <td>2013-03-01 08:43:59.003000000</td>\n",
       "      <td>NaN</td>\n",
       "      <td>36</td>\n",
       "      <td>Current</td>\n",
       "      <td>NaN</td>\n",
       "      <td>0.28780</td>\n",
       "      <td>0.2492</td>\n",
       "      <td>0.2392</td>\n",
       "      <td>0.2190</td>\n",
       "      <td>0.1125</td>\n",
       "      <td>0.1065</td>\n",
       "      <td>3.0</td>\n",
       "      <td>D</td>\n",
       "      <td>3.0</td>\n",
       "      <td>7</td>\n",
       "      <td>VA</td>\n",
       "      <td>Social Worker</td>\n",
       "      <td>Employed</td>\n",
       "      <td>31.0</td>\n",
       "      <td>False</td>\n",
       "      <td>False</td>\n",
       "      <td>NaN</td>\n",
       "      <td>2013-02-13 05:51:35</td>\n",
       "      <td>680.0</td>\n",
       "      <td>699.0</td>\n",
       "      <td>2000-08-07 00:00:00</td>\n",
       "      <td>8.0</td>\n",
       "      <td>8.0</td>\n",
       "      <td>32.0</td>\n",
       "      <td>14</td>\n",
       "      <td>817.0</td>\n",
       "      <td>0.0</td>\n",
       "      <td>0.0</td>\n",
       "      <td>0.0</td>\n",
       "      <td>0.0</td>\n",
       "      <td>0.0</td>\n",
       "      <td>0.0</td>\n",
       "      <td>0.0</td>\n",
       "      <td>18151.0</td>\n",
       "      <td>0.88</td>\n",
       "      <td>2249.0</td>\n",
       "      <td>31.0</td>\n",
       "      <td>0.83</td>\n",
       "      <td>0.0</td>\n",
       "      <td>0.44</td>\n",
       "      <td>$25,000-49,999</td>\n",
       "      <td>True</td>\n",
       "      <td>4000.000000</td>\n",
       "      <td>C35C367544505682947BED7</td>\n",
       "      <td>NaN</td>\n",
       "      <td>NaN</td>\n",
       "      <td>NaN</td>\n",
       "      <td>NaN</td>\n",
       "      <td>NaN</td>\n",
       "      <td>NaN</td>\n",
       "      <td>NaN</td>\n",
       "      <td>NaN</td>\n",
       "      <td>0</td>\n",
       "      <td>NaN</td>\n",
       "      <td>12</td>\n",
       "      <td>86146</td>\n",
       "      <td>10000</td>\n",
       "      <td>2013-03-06 00:00:00</td>\n",
       "      <td>Q1 2013</td>\n",
       "      <td>6B0F3548298660938A68CF4</td>\n",
       "      <td>397.18</td>\n",
       "      <td>4368.98</td>\n",
       "      <td>2299.18</td>\n",
       "      <td>2069.80</td>\n",
       "      <td>-83.07</td>\n",
       "      <td>0.00</td>\n",
       "      <td>0.0</td>\n",
       "      <td>0.00</td>\n",
       "      <td>0.0</td>\n",
       "      <td>1.0</td>\n",
       "      <td>0</td>\n",
       "      <td>0</td>\n",
       "      <td>0.0</td>\n",
       "      <td>134</td>\n",
       "    </tr>\n",
       "    <tr>\n",
       "      <th>54483</th>\n",
       "      <td>660335245558525226DAC9C</td>\n",
       "      <td>525345</td>\n",
       "      <td>2011-09-01 17:57:17.670000000</td>\n",
       "      <td>NaN</td>\n",
       "      <td>36</td>\n",
       "      <td>Past Due (1-15 days)</td>\n",
       "      <td>NaN</td>\n",
       "      <td>0.28339</td>\n",
       "      <td>0.2449</td>\n",
       "      <td>0.2349</td>\n",
       "      <td>0.2291</td>\n",
       "      <td>0.1050</td>\n",
       "      <td>0.1241</td>\n",
       "      <td>3.0</td>\n",
       "      <td>D</td>\n",
       "      <td>5.0</td>\n",
       "      <td>1</td>\n",
       "      <td>NJ</td>\n",
       "      <td>Professional</td>\n",
       "      <td>Employed</td>\n",
       "      <td>17.0</td>\n",
       "      <td>False</td>\n",
       "      <td>False</td>\n",
       "      <td>NaN</td>\n",
       "      <td>2011-12-30 07:06:26</td>\n",
       "      <td>600.0</td>\n",
       "      <td>619.0</td>\n",
       "      <td>1992-06-01 00:00:00</td>\n",
       "      <td>8.0</td>\n",
       "      <td>7.0</td>\n",
       "      <td>35.0</td>\n",
       "      <td>9</td>\n",
       "      <td>612.0</td>\n",
       "      <td>1.0</td>\n",
       "      <td>5.0</td>\n",
       "      <td>0.0</td>\n",
       "      <td>0.0</td>\n",
       "      <td>0.0</td>\n",
       "      <td>0.0</td>\n",
       "      <td>0.0</td>\n",
       "      <td>15151.0</td>\n",
       "      <td>0.94</td>\n",
       "      <td>747.0</td>\n",
       "      <td>27.0</td>\n",
       "      <td>1.00</td>\n",
       "      <td>0.0</td>\n",
       "      <td>0.34</td>\n",
       "      <td>$25,000-49,999</td>\n",
       "      <td>True</td>\n",
       "      <td>3333.333333</td>\n",
       "      <td>64043642616462374B74F78</td>\n",
       "      <td>2.0</td>\n",
       "      <td>39.0</td>\n",
       "      <td>35.0</td>\n",
       "      <td>4.0</td>\n",
       "      <td>0.0</td>\n",
       "      <td>7760.0</td>\n",
       "      <td>0.48</td>\n",
       "      <td>9.0</td>\n",
       "      <td>10</td>\n",
       "      <td>NaN</td>\n",
       "      <td>26</td>\n",
       "      <td>59813</td>\n",
       "      <td>5665</td>\n",
       "      <td>2012-01-31 00:00:00</td>\n",
       "      <td>Q1 2012</td>\n",
       "      <td>B7B233692602119491C4C94</td>\n",
       "      <td>223.71</td>\n",
       "      <td>5324.04</td>\n",
       "      <td>2962.86</td>\n",
       "      <td>2361.18</td>\n",
       "      <td>-89.06</td>\n",
       "      <td>-316.31</td>\n",
       "      <td>0.0</td>\n",
       "      <td>0.00</td>\n",
       "      <td>0.0</td>\n",
       "      <td>1.0</td>\n",
       "      <td>1</td>\n",
       "      <td>0</td>\n",
       "      <td>0.0</td>\n",
       "      <td>2</td>\n",
       "    </tr>\n",
       "    <tr>\n",
       "      <th>25779</th>\n",
       "      <td>06A3340033492517497ACD7</td>\n",
       "      <td>202915</td>\n",
       "      <td>2007-09-17 15:25:29.917000000</td>\n",
       "      <td>C</td>\n",
       "      <td>36</td>\n",
       "      <td>Completed</td>\n",
       "      <td>2009-05-13 00:00:00</td>\n",
       "      <td>0.17904</td>\n",
       "      <td>0.1700</td>\n",
       "      <td>0.1600</td>\n",
       "      <td>NaN</td>\n",
       "      <td>NaN</td>\n",
       "      <td>NaN</td>\n",
       "      <td>NaN</td>\n",
       "      <td>NaN</td>\n",
       "      <td>NaN</td>\n",
       "      <td>0</td>\n",
       "      <td>IL</td>\n",
       "      <td>Other</td>\n",
       "      <td>Full-time</td>\n",
       "      <td>27.0</td>\n",
       "      <td>False</td>\n",
       "      <td>False</td>\n",
       "      <td>NaN</td>\n",
       "      <td>2007-09-17 14:31:04.470000000</td>\n",
       "      <td>640.0</td>\n",
       "      <td>659.0</td>\n",
       "      <td>1999-08-07 00:00:00</td>\n",
       "      <td>10.0</td>\n",
       "      <td>6.0</td>\n",
       "      <td>22.0</td>\n",
       "      <td>5</td>\n",
       "      <td>183.0</td>\n",
       "      <td>1.0</td>\n",
       "      <td>3.0</td>\n",
       "      <td>0.0</td>\n",
       "      <td>0.0</td>\n",
       "      <td>31.0</td>\n",
       "      <td>1.0</td>\n",
       "      <td>0.0</td>\n",
       "      <td>3616.0</td>\n",
       "      <td>0.83</td>\n",
       "      <td>553.0</td>\n",
       "      <td>18.0</td>\n",
       "      <td>0.66</td>\n",
       "      <td>0.0</td>\n",
       "      <td>0.34</td>\n",
       "      <td>$1-24,999</td>\n",
       "      <td>True</td>\n",
       "      <td>1833.333333</td>\n",
       "      <td>9ECC3399986233883D8C8EE</td>\n",
       "      <td>NaN</td>\n",
       "      <td>NaN</td>\n",
       "      <td>NaN</td>\n",
       "      <td>NaN</td>\n",
       "      <td>NaN</td>\n",
       "      <td>NaN</td>\n",
       "      <td>NaN</td>\n",
       "      <td>NaN</td>\n",
       "      <td>0</td>\n",
       "      <td>NaN</td>\n",
       "      <td>78</td>\n",
       "      <td>19682</td>\n",
       "      <td>2000</td>\n",
       "      <td>2007-09-27 00:00:00</td>\n",
       "      <td>Q3 2007</td>\n",
       "      <td>B97D3399601497471E54404</td>\n",
       "      <td>71.31</td>\n",
       "      <td>2309.50</td>\n",
       "      <td>2000.00</td>\n",
       "      <td>309.50</td>\n",
       "      <td>-18.21</td>\n",
       "      <td>0.00</td>\n",
       "      <td>0.0</td>\n",
       "      <td>0.00</td>\n",
       "      <td>0.0</td>\n",
       "      <td>1.0</td>\n",
       "      <td>0</td>\n",
       "      <td>0</td>\n",
       "      <td>0.0</td>\n",
       "      <td>24</td>\n",
       "    </tr>\n",
       "    <tr>\n",
       "      <th>103979</th>\n",
       "      <td>937E3571072603266D9016B</td>\n",
       "      <td>717306</td>\n",
       "      <td>2013-02-21 14:03:21.773000000</td>\n",
       "      <td>NaN</td>\n",
       "      <td>36</td>\n",
       "      <td>Current</td>\n",
       "      <td>NaN</td>\n",
       "      <td>0.28032</td>\n",
       "      <td>0.2419</td>\n",
       "      <td>0.2319</td>\n",
       "      <td>0.2126</td>\n",
       "      <td>0.1075</td>\n",
       "      <td>0.1051</td>\n",
       "      <td>3.0</td>\n",
       "      <td>D</td>\n",
       "      <td>4.0</td>\n",
       "      <td>3</td>\n",
       "      <td>TX</td>\n",
       "      <td>Other</td>\n",
       "      <td>Employed</td>\n",
       "      <td>87.0</td>\n",
       "      <td>False</td>\n",
       "      <td>False</td>\n",
       "      <td>NaN</td>\n",
       "      <td>2013-02-21 14:03:17</td>\n",
       "      <td>740.0</td>\n",
       "      <td>759.0</td>\n",
       "      <td>1998-09-03 00:00:00</td>\n",
       "      <td>13.0</td>\n",
       "      <td>12.0</td>\n",
       "      <td>38.0</td>\n",
       "      <td>10</td>\n",
       "      <td>374.0</td>\n",
       "      <td>1.0</td>\n",
       "      <td>9.0</td>\n",
       "      <td>1.0</td>\n",
       "      <td>313.0</td>\n",
       "      <td>0.0</td>\n",
       "      <td>0.0</td>\n",
       "      <td>0.0</td>\n",
       "      <td>3362.0</td>\n",
       "      <td>0.17</td>\n",
       "      <td>16218.0</td>\n",
       "      <td>33.0</td>\n",
       "      <td>0.97</td>\n",
       "      <td>1.0</td>\n",
       "      <td>0.21</td>\n",
       "      <td>$100,000+</td>\n",
       "      <td>True</td>\n",
       "      <td>8833.333333</td>\n",
       "      <td>B0C73676740633675581623</td>\n",
       "      <td>NaN</td>\n",
       "      <td>NaN</td>\n",
       "      <td>NaN</td>\n",
       "      <td>NaN</td>\n",
       "      <td>NaN</td>\n",
       "      <td>NaN</td>\n",
       "      <td>NaN</td>\n",
       "      <td>NaN</td>\n",
       "      <td>0</td>\n",
       "      <td>NaN</td>\n",
       "      <td>12</td>\n",
       "      <td>86017</td>\n",
       "      <td>15000</td>\n",
       "      <td>2013-03-04 00:00:00</td>\n",
       "      <td>Q1 2013</td>\n",
       "      <td>2F6035716642810378CA3A1</td>\n",
       "      <td>589.99</td>\n",
       "      <td>7079.88</td>\n",
       "      <td>3855.76</td>\n",
       "      <td>3224.12</td>\n",
       "      <td>-133.30</td>\n",
       "      <td>0.00</td>\n",
       "      <td>0.0</td>\n",
       "      <td>0.00</td>\n",
       "      <td>0.0</td>\n",
       "      <td>1.0</td>\n",
       "      <td>0</td>\n",
       "      <td>0</td>\n",
       "      <td>0.0</td>\n",
       "      <td>290</td>\n",
       "    </tr>\n",
       "    <tr>\n",
       "      <th>110693</th>\n",
       "      <td>2A9C33895694070701B0982</td>\n",
       "      <td>137347</td>\n",
       "      <td>2007-05-14 15:32:26.323000000</td>\n",
       "      <td>HR</td>\n",
       "      <td>36</td>\n",
       "      <td>Chargedoff</td>\n",
       "      <td>2008-07-28 00:00:00</td>\n",
       "      <td>0.26425</td>\n",
       "      <td>0.2490</td>\n",
       "      <td>0.2290</td>\n",
       "      <td>NaN</td>\n",
       "      <td>NaN</td>\n",
       "      <td>NaN</td>\n",
       "      <td>NaN</td>\n",
       "      <td>NaN</td>\n",
       "      <td>NaN</td>\n",
       "      <td>0</td>\n",
       "      <td>AL</td>\n",
       "      <td>Principal</td>\n",
       "      <td>Full-time</td>\n",
       "      <td>81.0</td>\n",
       "      <td>True</td>\n",
       "      <td>True</td>\n",
       "      <td>FEF83377364176536637E50</td>\n",
       "      <td>2007-05-06 02:22:21.857000000</td>\n",
       "      <td>540.0</td>\n",
       "      <td>559.0</td>\n",
       "      <td>1995-09-28 00:00:00</td>\n",
       "      <td>9.0</td>\n",
       "      <td>8.0</td>\n",
       "      <td>33.0</td>\n",
       "      <td>6</td>\n",
       "      <td>212.0</td>\n",
       "      <td>4.0</td>\n",
       "      <td>27.0</td>\n",
       "      <td>9.0</td>\n",
       "      <td>2868.0</td>\n",
       "      <td>18.0</td>\n",
       "      <td>0.0</td>\n",
       "      <td>0.0</td>\n",
       "      <td>4725.0</td>\n",
       "      <td>0.79</td>\n",
       "      <td>182.0</td>\n",
       "      <td>24.0</td>\n",
       "      <td>0.42</td>\n",
       "      <td>2.0</td>\n",
       "      <td>0.20</td>\n",
       "      <td>$50,000-74,999</td>\n",
       "      <td>True</td>\n",
       "      <td>4876.000000</td>\n",
       "      <td>8E42338971110100311D15B</td>\n",
       "      <td>NaN</td>\n",
       "      <td>NaN</td>\n",
       "      <td>NaN</td>\n",
       "      <td>NaN</td>\n",
       "      <td>NaN</td>\n",
       "      <td>NaN</td>\n",
       "      <td>NaN</td>\n",
       "      <td>NaN</td>\n",
       "      <td>2172</td>\n",
       "      <td>14.0</td>\n",
       "      <td>82</td>\n",
       "      <td>15397</td>\n",
       "      <td>2900</td>\n",
       "      <td>2007-05-29 00:00:00</td>\n",
       "      <td>Q2 2007</td>\n",
       "      <td>3D8833737555966827D0B1A</td>\n",
       "      <td>115.15</td>\n",
       "      <td>1017.97</td>\n",
       "      <td>514.32</td>\n",
       "      <td>503.65</td>\n",
       "      <td>-21.08</td>\n",
       "      <td>0.00</td>\n",
       "      <td>2385.7</td>\n",
       "      <td>2385.68</td>\n",
       "      <td>0.0</td>\n",
       "      <td>1.0</td>\n",
       "      <td>0</td>\n",
       "      <td>0</td>\n",
       "      <td>0.0</td>\n",
       "      <td>73</td>\n",
       "    </tr>\n",
       "  </tbody>\n",
       "</table>\n",
       "</div>"
      ],
      "text/plain": [
       "                     ListingKey  ListingNumber            ListingCreationDate  \\\n",
       "28062   356A35720335104603B0146         720875  2013-03-01 08:43:59.003000000   \n",
       "54483   660335245558525226DAC9C         525345  2011-09-01 17:57:17.670000000   \n",
       "25779   06A3340033492517497ACD7         202915  2007-09-17 15:25:29.917000000   \n",
       "103979  937E3571072603266D9016B         717306  2013-02-21 14:03:21.773000000   \n",
       "110693  2A9C33895694070701B0982         137347  2007-05-14 15:32:26.323000000   \n",
       "\n",
       "       CreditGrade  Term            LoanStatus           ClosedDate  \\\n",
       "28062          NaN    36               Current                  NaN   \n",
       "54483          NaN    36  Past Due (1-15 days)                  NaN   \n",
       "25779            C    36             Completed  2009-05-13 00:00:00   \n",
       "103979         NaN    36               Current                  NaN   \n",
       "110693          HR    36            Chargedoff  2008-07-28 00:00:00   \n",
       "\n",
       "        BorrowerAPR  BorrowerRate  LenderYield  EstimatedEffectiveYield  \\\n",
       "28062       0.28780        0.2492       0.2392                   0.2190   \n",
       "54483       0.28339        0.2449       0.2349                   0.2291   \n",
       "25779       0.17904        0.1700       0.1600                      NaN   \n",
       "103979      0.28032        0.2419       0.2319                   0.2126   \n",
       "110693      0.26425        0.2490       0.2290                      NaN   \n",
       "\n",
       "        EstimatedLoss  EstimatedReturn  ProsperRating (numeric)  \\\n",
       "28062          0.1125           0.1065                      3.0   \n",
       "54483          0.1050           0.1241                      3.0   \n",
       "25779             NaN              NaN                      NaN   \n",
       "103979         0.1075           0.1051                      3.0   \n",
       "110693            NaN              NaN                      NaN   \n",
       "\n",
       "       ProsperRating (Alpha)  ProsperScore  ListingCategory (numeric)  \\\n",
       "28062                      D           3.0                          7   \n",
       "54483                      D           5.0                          1   \n",
       "25779                    NaN           NaN                          0   \n",
       "103979                     D           4.0                          3   \n",
       "110693                   NaN           NaN                          0   \n",
       "\n",
       "       BorrowerState     Occupation EmploymentStatus  \\\n",
       "28062             VA  Social Worker         Employed   \n",
       "54483             NJ   Professional         Employed   \n",
       "25779             IL          Other        Full-time   \n",
       "103979            TX          Other         Employed   \n",
       "110693            AL      Principal        Full-time   \n",
       "\n",
       "        EmploymentStatusDuration  IsBorrowerHomeowner  CurrentlyInGroup  \\\n",
       "28062                       31.0                False             False   \n",
       "54483                       17.0                False             False   \n",
       "25779                       27.0                False             False   \n",
       "103979                      87.0                False             False   \n",
       "110693                      81.0                 True              True   \n",
       "\n",
       "                       GroupKey               DateCreditPulled  \\\n",
       "28062                       NaN            2013-02-13 05:51:35   \n",
       "54483                       NaN            2011-12-30 07:06:26   \n",
       "25779                       NaN  2007-09-17 14:31:04.470000000   \n",
       "103979                      NaN            2013-02-21 14:03:17   \n",
       "110693  FEF83377364176536637E50  2007-05-06 02:22:21.857000000   \n",
       "\n",
       "        CreditScoreRangeLower  CreditScoreRangeUpper FirstRecordedCreditLine  \\\n",
       "28062                   680.0                  699.0     2000-08-07 00:00:00   \n",
       "54483                   600.0                  619.0     1992-06-01 00:00:00   \n",
       "25779                   640.0                  659.0     1999-08-07 00:00:00   \n",
       "103979                  740.0                  759.0     1998-09-03 00:00:00   \n",
       "110693                  540.0                  559.0     1995-09-28 00:00:00   \n",
       "\n",
       "        CurrentCreditLines  OpenCreditLines  TotalCreditLinespast7years  \\\n",
       "28062                  8.0              8.0                        32.0   \n",
       "54483                  8.0              7.0                        35.0   \n",
       "25779                 10.0              6.0                        22.0   \n",
       "103979                13.0             12.0                        38.0   \n",
       "110693                 9.0              8.0                        33.0   \n",
       "\n",
       "        OpenRevolvingAccounts  OpenRevolvingMonthlyPayment  \\\n",
       "28062                      14                        817.0   \n",
       "54483                       9                        612.0   \n",
       "25779                       5                        183.0   \n",
       "103979                     10                        374.0   \n",
       "110693                      6                        212.0   \n",
       "\n",
       "        InquiriesLast6Months  TotalInquiries  CurrentDelinquencies  \\\n",
       "28062                    0.0             0.0                   0.0   \n",
       "54483                    1.0             5.0                   0.0   \n",
       "25779                    1.0             3.0                   0.0   \n",
       "103979                   1.0             9.0                   1.0   \n",
       "110693                   4.0            27.0                   9.0   \n",
       "\n",
       "        AmountDelinquent  DelinquenciesLast7Years  PublicRecordsLast10Years  \\\n",
       "28062                0.0                      0.0                       0.0   \n",
       "54483                0.0                      0.0                       0.0   \n",
       "25779                0.0                     31.0                       1.0   \n",
       "103979             313.0                      0.0                       0.0   \n",
       "110693            2868.0                     18.0                       0.0   \n",
       "\n",
       "        PublicRecordsLast12Months  RevolvingCreditBalance  \\\n",
       "28062                         0.0                 18151.0   \n",
       "54483                         0.0                 15151.0   \n",
       "25779                         0.0                  3616.0   \n",
       "103979                        0.0                  3362.0   \n",
       "110693                        0.0                  4725.0   \n",
       "\n",
       "        BankcardUtilization  AvailableBankcardCredit  TotalTrades  \\\n",
       "28062                  0.88                   2249.0         31.0   \n",
       "54483                  0.94                    747.0         27.0   \n",
       "25779                  0.83                    553.0         18.0   \n",
       "103979                 0.17                  16218.0         33.0   \n",
       "110693                 0.79                    182.0         24.0   \n",
       "\n",
       "        TradesNeverDelinquent (percentage)  TradesOpenedLast6Months  \\\n",
       "28062                                 0.83                      0.0   \n",
       "54483                                 1.00                      0.0   \n",
       "25779                                 0.66                      0.0   \n",
       "103979                                0.97                      1.0   \n",
       "110693                                0.42                      2.0   \n",
       "\n",
       "        DebtToIncomeRatio     IncomeRange  IncomeVerifiable  \\\n",
       "28062                0.44  $25,000-49,999              True   \n",
       "54483                0.34  $25,000-49,999              True   \n",
       "25779                0.34       $1-24,999              True   \n",
       "103979               0.21       $100,000+              True   \n",
       "110693               0.20  $50,000-74,999              True   \n",
       "\n",
       "        StatedMonthlyIncome                  LoanKey  TotalProsperLoans  \\\n",
       "28062           4000.000000  C35C367544505682947BED7                NaN   \n",
       "54483           3333.333333  64043642616462374B74F78                2.0   \n",
       "25779           1833.333333  9ECC3399986233883D8C8EE                NaN   \n",
       "103979          8833.333333  B0C73676740633675581623                NaN   \n",
       "110693          4876.000000  8E42338971110100311D15B                NaN   \n",
       "\n",
       "        TotalProsperPaymentsBilled  OnTimeProsperPayments  \\\n",
       "28062                          NaN                    NaN   \n",
       "54483                         39.0                   35.0   \n",
       "25779                          NaN                    NaN   \n",
       "103979                         NaN                    NaN   \n",
       "110693                         NaN                    NaN   \n",
       "\n",
       "        ProsperPaymentsLessThanOneMonthLate  ProsperPaymentsOneMonthPlusLate  \\\n",
       "28062                                   NaN                              NaN   \n",
       "54483                                   4.0                              0.0   \n",
       "25779                                   NaN                              NaN   \n",
       "103979                                  NaN                              NaN   \n",
       "110693                                  NaN                              NaN   \n",
       "\n",
       "        ProsperPrincipalBorrowed  ProsperPrincipalOutstanding  \\\n",
       "28062                        NaN                          NaN   \n",
       "54483                     7760.0                         0.48   \n",
       "25779                        NaN                          NaN   \n",
       "103979                       NaN                          NaN   \n",
       "110693                       NaN                          NaN   \n",
       "\n",
       "        ScorexChangeAtTimeOfListing  LoanCurrentDaysDelinquent  \\\n",
       "28062                           NaN                          0   \n",
       "54483                           9.0                         10   \n",
       "25779                           NaN                          0   \n",
       "103979                          NaN                          0   \n",
       "110693                          NaN                       2172   \n",
       "\n",
       "        LoanFirstDefaultedCycleNumber  LoanMonthsSinceOrigination  LoanNumber  \\\n",
       "28062                             NaN                          12       86146   \n",
       "54483                             NaN                          26       59813   \n",
       "25779                             NaN                          78       19682   \n",
       "103979                            NaN                          12       86017   \n",
       "110693                           14.0                          82       15397   \n",
       "\n",
       "        LoanOriginalAmount  LoanOriginationDate LoanOriginationQuarter  \\\n",
       "28062                10000  2013-03-06 00:00:00                Q1 2013   \n",
       "54483                 5665  2012-01-31 00:00:00                Q1 2012   \n",
       "25779                 2000  2007-09-27 00:00:00                Q3 2007   \n",
       "103979               15000  2013-03-04 00:00:00                Q1 2013   \n",
       "110693                2900  2007-05-29 00:00:00                Q2 2007   \n",
       "\n",
       "                      MemberKey  MonthlyLoanPayment  LP_CustomerPayments  \\\n",
       "28062   6B0F3548298660938A68CF4              397.18              4368.98   \n",
       "54483   B7B233692602119491C4C94              223.71              5324.04   \n",
       "25779   B97D3399601497471E54404               71.31              2309.50   \n",
       "103979  2F6035716642810378CA3A1              589.99              7079.88   \n",
       "110693  3D8833737555966827D0B1A              115.15              1017.97   \n",
       "\n",
       "        LP_CustomerPrincipalPayments  LP_InterestandFees  LP_ServiceFees  \\\n",
       "28062                        2299.18             2069.80          -83.07   \n",
       "54483                        2962.86             2361.18          -89.06   \n",
       "25779                        2000.00              309.50          -18.21   \n",
       "103979                       3855.76             3224.12         -133.30   \n",
       "110693                        514.32              503.65          -21.08   \n",
       "\n",
       "        LP_CollectionFees  LP_GrossPrincipalLoss  LP_NetPrincipalLoss  \\\n",
       "28062                0.00                    0.0                 0.00   \n",
       "54483             -316.31                    0.0                 0.00   \n",
       "25779                0.00                    0.0                 0.00   \n",
       "103979               0.00                    0.0                 0.00   \n",
       "110693               0.00                 2385.7              2385.68   \n",
       "\n",
       "        LP_NonPrincipalRecoverypayments  PercentFunded  Recommendations  \\\n",
       "28062                               0.0            1.0                0   \n",
       "54483                               0.0            1.0                1   \n",
       "25779                               0.0            1.0                0   \n",
       "103979                              0.0            1.0                0   \n",
       "110693                              0.0            1.0                0   \n",
       "\n",
       "        InvestmentFromFriendsCount  InvestmentFromFriendsAmount  Investors  \n",
       "28062                            0                          0.0        134  \n",
       "54483                            0                          0.0          2  \n",
       "25779                            0                          0.0         24  \n",
       "103979                           0                          0.0        290  \n",
       "110693                           0                          0.0         73  "
      ]
     },
     "execution_count": 5,
     "metadata": {},
     "output_type": "execute_result"
    }
   ],
   "source": [
    "# Dataset overview\n",
    "loan.sample(5)"
   ]
  },
  {
   "cell_type": "code",
   "execution_count": 6,
   "metadata": {},
   "outputs": [
    {
     "name": "stdout",
     "output_type": "stream",
     "text": [
      "<class 'pandas.core.frame.DataFrame'>\n",
      "RangeIndex: 113937 entries, 0 to 113936\n",
      "Data columns (total 81 columns):\n",
      " #   Column                               Non-Null Count   Dtype  \n",
      "---  ------                               --------------   -----  \n",
      " 0   ListingKey                           113937 non-null  object \n",
      " 1   ListingNumber                        113937 non-null  int64  \n",
      " 2   ListingCreationDate                  113937 non-null  object \n",
      " 3   CreditGrade                          28953 non-null   object \n",
      " 4   Term                                 113937 non-null  int64  \n",
      " 5   LoanStatus                           113937 non-null  object \n",
      " 6   ClosedDate                           55089 non-null   object \n",
      " 7   BorrowerAPR                          113912 non-null  float64\n",
      " 8   BorrowerRate                         113937 non-null  float64\n",
      " 9   LenderYield                          113937 non-null  float64\n",
      " 10  EstimatedEffectiveYield              84853 non-null   float64\n",
      " 11  EstimatedLoss                        84853 non-null   float64\n",
      " 12  EstimatedReturn                      84853 non-null   float64\n",
      " 13  ProsperRating (numeric)              84853 non-null   float64\n",
      " 14  ProsperRating (Alpha)                84853 non-null   object \n",
      " 15  ProsperScore                         84853 non-null   float64\n",
      " 16  ListingCategory (numeric)            113937 non-null  int64  \n",
      " 17  BorrowerState                        108422 non-null  object \n",
      " 18  Occupation                           110349 non-null  object \n",
      " 19  EmploymentStatus                     111682 non-null  object \n",
      " 20  EmploymentStatusDuration             106312 non-null  float64\n",
      " 21  IsBorrowerHomeowner                  113937 non-null  bool   \n",
      " 22  CurrentlyInGroup                     113937 non-null  bool   \n",
      " 23  GroupKey                             13341 non-null   object \n",
      " 24  DateCreditPulled                     113937 non-null  object \n",
      " 25  CreditScoreRangeLower                113346 non-null  float64\n",
      " 26  CreditScoreRangeUpper                113346 non-null  float64\n",
      " 27  FirstRecordedCreditLine              113240 non-null  object \n",
      " 28  CurrentCreditLines                   106333 non-null  float64\n",
      " 29  OpenCreditLines                      106333 non-null  float64\n",
      " 30  TotalCreditLinespast7years           113240 non-null  float64\n",
      " 31  OpenRevolvingAccounts                113937 non-null  int64  \n",
      " 32  OpenRevolvingMonthlyPayment          113937 non-null  float64\n",
      " 33  InquiriesLast6Months                 113240 non-null  float64\n",
      " 34  TotalInquiries                       112778 non-null  float64\n",
      " 35  CurrentDelinquencies                 113240 non-null  float64\n",
      " 36  AmountDelinquent                     106315 non-null  float64\n",
      " 37  DelinquenciesLast7Years              112947 non-null  float64\n",
      " 38  PublicRecordsLast10Years             113240 non-null  float64\n",
      " 39  PublicRecordsLast12Months            106333 non-null  float64\n",
      " 40  RevolvingCreditBalance               106333 non-null  float64\n",
      " 41  BankcardUtilization                  106333 non-null  float64\n",
      " 42  AvailableBankcardCredit              106393 non-null  float64\n",
      " 43  TotalTrades                          106393 non-null  float64\n",
      " 44  TradesNeverDelinquent (percentage)   106393 non-null  float64\n",
      " 45  TradesOpenedLast6Months              106393 non-null  float64\n",
      " 46  DebtToIncomeRatio                    105383 non-null  float64\n",
      " 47  IncomeRange                          113937 non-null  object \n",
      " 48  IncomeVerifiable                     113937 non-null  bool   \n",
      " 49  StatedMonthlyIncome                  113937 non-null  float64\n",
      " 50  LoanKey                              113937 non-null  object \n",
      " 51  TotalProsperLoans                    22085 non-null   float64\n",
      " 52  TotalProsperPaymentsBilled           22085 non-null   float64\n",
      " 53  OnTimeProsperPayments                22085 non-null   float64\n",
      " 54  ProsperPaymentsLessThanOneMonthLate  22085 non-null   float64\n",
      " 55  ProsperPaymentsOneMonthPlusLate      22085 non-null   float64\n",
      " 56  ProsperPrincipalBorrowed             22085 non-null   float64\n",
      " 57  ProsperPrincipalOutstanding          22085 non-null   float64\n",
      " 58  ScorexChangeAtTimeOfListing          18928 non-null   float64\n",
      " 59  LoanCurrentDaysDelinquent            113937 non-null  int64  \n",
      " 60  LoanFirstDefaultedCycleNumber        16952 non-null   float64\n",
      " 61  LoanMonthsSinceOrigination           113937 non-null  int64  \n",
      " 62  LoanNumber                           113937 non-null  int64  \n",
      " 63  LoanOriginalAmount                   113937 non-null  int64  \n",
      " 64  LoanOriginationDate                  113937 non-null  object \n",
      " 65  LoanOriginationQuarter               113937 non-null  object \n",
      " 66  MemberKey                            113937 non-null  object \n",
      " 67  MonthlyLoanPayment                   113937 non-null  float64\n",
      " 68  LP_CustomerPayments                  113937 non-null  float64\n",
      " 69  LP_CustomerPrincipalPayments         113937 non-null  float64\n",
      " 70  LP_InterestandFees                   113937 non-null  float64\n",
      " 71  LP_ServiceFees                       113937 non-null  float64\n",
      " 72  LP_CollectionFees                    113937 non-null  float64\n",
      " 73  LP_GrossPrincipalLoss                113937 non-null  float64\n",
      " 74  LP_NetPrincipalLoss                  113937 non-null  float64\n",
      " 75  LP_NonPrincipalRecoverypayments      113937 non-null  float64\n",
      " 76  PercentFunded                        113937 non-null  float64\n",
      " 77  Recommendations                      113937 non-null  int64  \n",
      " 78  InvestmentFromFriendsCount           113937 non-null  int64  \n",
      " 79  InvestmentFromFriendsAmount          113937 non-null  float64\n",
      " 80  Investors                            113937 non-null  int64  \n",
      "dtypes: bool(3), float64(50), int64(11), object(17)\n",
      "memory usage: 68.1+ MB\n"
     ]
    }
   ],
   "source": [
    "# Datatypes, missing values\n",
    "loan.info()"
   ]
  },
  {
   "cell_type": "code",
   "execution_count": 7,
   "metadata": {},
   "outputs": [
    {
     "data": {
      "text/html": [
       "<div>\n",
       "<style scoped>\n",
       "    .dataframe tbody tr th:only-of-type {\n",
       "        vertical-align: middle;\n",
       "    }\n",
       "\n",
       "    .dataframe tbody tr th {\n",
       "        vertical-align: top;\n",
       "    }\n",
       "\n",
       "    .dataframe thead th {\n",
       "        text-align: right;\n",
       "    }\n",
       "</style>\n",
       "<table border=\"1\" class=\"dataframe\">\n",
       "  <thead>\n",
       "    <tr style=\"text-align: right;\">\n",
       "      <th></th>\n",
       "      <th>ListingNumber</th>\n",
       "      <th>Term</th>\n",
       "      <th>BorrowerAPR</th>\n",
       "      <th>BorrowerRate</th>\n",
       "      <th>LenderYield</th>\n",
       "      <th>EstimatedEffectiveYield</th>\n",
       "      <th>EstimatedLoss</th>\n",
       "      <th>EstimatedReturn</th>\n",
       "      <th>ProsperRating (numeric)</th>\n",
       "      <th>ProsperScore</th>\n",
       "      <th>ListingCategory (numeric)</th>\n",
       "      <th>EmploymentStatusDuration</th>\n",
       "      <th>CreditScoreRangeLower</th>\n",
       "      <th>CreditScoreRangeUpper</th>\n",
       "      <th>CurrentCreditLines</th>\n",
       "      <th>OpenCreditLines</th>\n",
       "      <th>TotalCreditLinespast7years</th>\n",
       "      <th>OpenRevolvingAccounts</th>\n",
       "      <th>OpenRevolvingMonthlyPayment</th>\n",
       "      <th>InquiriesLast6Months</th>\n",
       "      <th>TotalInquiries</th>\n",
       "      <th>CurrentDelinquencies</th>\n",
       "      <th>AmountDelinquent</th>\n",
       "      <th>DelinquenciesLast7Years</th>\n",
       "      <th>PublicRecordsLast10Years</th>\n",
       "      <th>PublicRecordsLast12Months</th>\n",
       "      <th>RevolvingCreditBalance</th>\n",
       "      <th>BankcardUtilization</th>\n",
       "      <th>AvailableBankcardCredit</th>\n",
       "      <th>TotalTrades</th>\n",
       "      <th>TradesNeverDelinquent (percentage)</th>\n",
       "      <th>TradesOpenedLast6Months</th>\n",
       "      <th>DebtToIncomeRatio</th>\n",
       "      <th>StatedMonthlyIncome</th>\n",
       "      <th>TotalProsperLoans</th>\n",
       "      <th>TotalProsperPaymentsBilled</th>\n",
       "      <th>OnTimeProsperPayments</th>\n",
       "      <th>ProsperPaymentsLessThanOneMonthLate</th>\n",
       "      <th>ProsperPaymentsOneMonthPlusLate</th>\n",
       "      <th>ProsperPrincipalBorrowed</th>\n",
       "      <th>ProsperPrincipalOutstanding</th>\n",
       "      <th>ScorexChangeAtTimeOfListing</th>\n",
       "      <th>LoanCurrentDaysDelinquent</th>\n",
       "      <th>LoanFirstDefaultedCycleNumber</th>\n",
       "      <th>LoanMonthsSinceOrigination</th>\n",
       "      <th>LoanNumber</th>\n",
       "      <th>LoanOriginalAmount</th>\n",
       "      <th>MonthlyLoanPayment</th>\n",
       "      <th>LP_CustomerPayments</th>\n",
       "      <th>LP_CustomerPrincipalPayments</th>\n",
       "      <th>LP_InterestandFees</th>\n",
       "      <th>LP_ServiceFees</th>\n",
       "      <th>LP_CollectionFees</th>\n",
       "      <th>LP_GrossPrincipalLoss</th>\n",
       "      <th>LP_NetPrincipalLoss</th>\n",
       "      <th>LP_NonPrincipalRecoverypayments</th>\n",
       "      <th>PercentFunded</th>\n",
       "      <th>Recommendations</th>\n",
       "      <th>InvestmentFromFriendsCount</th>\n",
       "      <th>InvestmentFromFriendsAmount</th>\n",
       "      <th>Investors</th>\n",
       "    </tr>\n",
       "  </thead>\n",
       "  <tbody>\n",
       "    <tr>\n",
       "      <th>count</th>\n",
       "      <td>1.139370e+05</td>\n",
       "      <td>113937.000000</td>\n",
       "      <td>113912.000000</td>\n",
       "      <td>113937.000000</td>\n",
       "      <td>113937.000000</td>\n",
       "      <td>84853.000000</td>\n",
       "      <td>84853.000000</td>\n",
       "      <td>84853.000000</td>\n",
       "      <td>84853.000000</td>\n",
       "      <td>84853.000000</td>\n",
       "      <td>113937.000000</td>\n",
       "      <td>106312.000000</td>\n",
       "      <td>113346.000000</td>\n",
       "      <td>113346.000000</td>\n",
       "      <td>106333.000000</td>\n",
       "      <td>106333.000000</td>\n",
       "      <td>113240.000000</td>\n",
       "      <td>113937.00000</td>\n",
       "      <td>113937.000000</td>\n",
       "      <td>113240.000000</td>\n",
       "      <td>112778.000000</td>\n",
       "      <td>113240.000000</td>\n",
       "      <td>106315.000000</td>\n",
       "      <td>112947.000000</td>\n",
       "      <td>113240.000000</td>\n",
       "      <td>106333.000000</td>\n",
       "      <td>1.063330e+05</td>\n",
       "      <td>106333.000000</td>\n",
       "      <td>106393.000000</td>\n",
       "      <td>106393.000000</td>\n",
       "      <td>106393.000000</td>\n",
       "      <td>106393.000000</td>\n",
       "      <td>105383.000000</td>\n",
       "      <td>1.139370e+05</td>\n",
       "      <td>22085.000000</td>\n",
       "      <td>22085.000000</td>\n",
       "      <td>22085.000000</td>\n",
       "      <td>22085.000000</td>\n",
       "      <td>22085.000000</td>\n",
       "      <td>22085.000000</td>\n",
       "      <td>22085.000000</td>\n",
       "      <td>18928.000000</td>\n",
       "      <td>113937.000000</td>\n",
       "      <td>16952.000000</td>\n",
       "      <td>113937.000000</td>\n",
       "      <td>113937.000000</td>\n",
       "      <td>113937.00000</td>\n",
       "      <td>113937.000000</td>\n",
       "      <td>113937.000000</td>\n",
       "      <td>113937.000000</td>\n",
       "      <td>113937.000000</td>\n",
       "      <td>113937.000000</td>\n",
       "      <td>113937.000000</td>\n",
       "      <td>113937.000000</td>\n",
       "      <td>113937.000000</td>\n",
       "      <td>113937.000000</td>\n",
       "      <td>113937.000000</td>\n",
       "      <td>113937.000000</td>\n",
       "      <td>113937.000000</td>\n",
       "      <td>113937.000000</td>\n",
       "      <td>113937.000000</td>\n",
       "    </tr>\n",
       "    <tr>\n",
       "      <th>mean</th>\n",
       "      <td>6.278857e+05</td>\n",
       "      <td>40.830248</td>\n",
       "      <td>0.218828</td>\n",
       "      <td>0.192764</td>\n",
       "      <td>0.182701</td>\n",
       "      <td>0.168661</td>\n",
       "      <td>0.080306</td>\n",
       "      <td>0.096068</td>\n",
       "      <td>4.072243</td>\n",
       "      <td>5.950067</td>\n",
       "      <td>2.774209</td>\n",
       "      <td>96.071582</td>\n",
       "      <td>685.567731</td>\n",
       "      <td>704.567731</td>\n",
       "      <td>10.317192</td>\n",
       "      <td>9.260164</td>\n",
       "      <td>26.754539</td>\n",
       "      <td>6.96979</td>\n",
       "      <td>398.292161</td>\n",
       "      <td>1.435085</td>\n",
       "      <td>5.584405</td>\n",
       "      <td>0.592052</td>\n",
       "      <td>984.507059</td>\n",
       "      <td>4.154984</td>\n",
       "      <td>0.312646</td>\n",
       "      <td>0.015094</td>\n",
       "      <td>1.759871e+04</td>\n",
       "      <td>0.561309</td>\n",
       "      <td>11210.225447</td>\n",
       "      <td>23.230034</td>\n",
       "      <td>0.885897</td>\n",
       "      <td>0.802327</td>\n",
       "      <td>0.275947</td>\n",
       "      <td>5.608026e+03</td>\n",
       "      <td>1.421100</td>\n",
       "      <td>22.934345</td>\n",
       "      <td>22.271949</td>\n",
       "      <td>0.613629</td>\n",
       "      <td>0.048540</td>\n",
       "      <td>8472.311961</td>\n",
       "      <td>2930.313906</td>\n",
       "      <td>-3.223214</td>\n",
       "      <td>152.816539</td>\n",
       "      <td>16.268464</td>\n",
       "      <td>31.896882</td>\n",
       "      <td>69444.474271</td>\n",
       "      <td>8337.01385</td>\n",
       "      <td>272.475783</td>\n",
       "      <td>4183.079489</td>\n",
       "      <td>3105.536588</td>\n",
       "      <td>1077.542901</td>\n",
       "      <td>-54.725641</td>\n",
       "      <td>-14.242698</td>\n",
       "      <td>700.446342</td>\n",
       "      <td>681.420499</td>\n",
       "      <td>25.142686</td>\n",
       "      <td>0.998584</td>\n",
       "      <td>0.048027</td>\n",
       "      <td>0.023460</td>\n",
       "      <td>16.550751</td>\n",
       "      <td>80.475228</td>\n",
       "    </tr>\n",
       "    <tr>\n",
       "      <th>std</th>\n",
       "      <td>3.280762e+05</td>\n",
       "      <td>10.436212</td>\n",
       "      <td>0.080364</td>\n",
       "      <td>0.074818</td>\n",
       "      <td>0.074516</td>\n",
       "      <td>0.068467</td>\n",
       "      <td>0.046764</td>\n",
       "      <td>0.030403</td>\n",
       "      <td>1.673227</td>\n",
       "      <td>2.376501</td>\n",
       "      <td>3.996797</td>\n",
       "      <td>94.480605</td>\n",
       "      <td>66.458275</td>\n",
       "      <td>66.458275</td>\n",
       "      <td>5.457866</td>\n",
       "      <td>5.022644</td>\n",
       "      <td>13.637871</td>\n",
       "      <td>4.63097</td>\n",
       "      <td>447.159711</td>\n",
       "      <td>2.437507</td>\n",
       "      <td>6.429946</td>\n",
       "      <td>1.978707</td>\n",
       "      <td>7158.270157</td>\n",
       "      <td>10.160216</td>\n",
       "      <td>0.727868</td>\n",
       "      <td>0.154092</td>\n",
       "      <td>3.293640e+04</td>\n",
       "      <td>0.317918</td>\n",
       "      <td>19818.361309</td>\n",
       "      <td>11.871311</td>\n",
       "      <td>0.148179</td>\n",
       "      <td>1.097637</td>\n",
       "      <td>0.551759</td>\n",
       "      <td>7.478497e+03</td>\n",
       "      <td>0.764042</td>\n",
       "      <td>19.249584</td>\n",
       "      <td>18.830425</td>\n",
       "      <td>2.446827</td>\n",
       "      <td>0.556285</td>\n",
       "      <td>7395.507650</td>\n",
       "      <td>3806.635075</td>\n",
       "      <td>50.063567</td>\n",
       "      <td>466.320254</td>\n",
       "      <td>9.005898</td>\n",
       "      <td>29.974184</td>\n",
       "      <td>38930.479610</td>\n",
       "      <td>6245.80058</td>\n",
       "      <td>192.697812</td>\n",
       "      <td>4790.907234</td>\n",
       "      <td>4069.527670</td>\n",
       "      <td>1183.414168</td>\n",
       "      <td>60.675425</td>\n",
       "      <td>109.232758</td>\n",
       "      <td>2388.513831</td>\n",
       "      <td>2357.167068</td>\n",
       "      <td>275.657937</td>\n",
       "      <td>0.017919</td>\n",
       "      <td>0.332353</td>\n",
       "      <td>0.232412</td>\n",
       "      <td>294.545422</td>\n",
       "      <td>103.239020</td>\n",
       "    </tr>\n",
       "    <tr>\n",
       "      <th>min</th>\n",
       "      <td>4.000000e+00</td>\n",
       "      <td>12.000000</td>\n",
       "      <td>0.006530</td>\n",
       "      <td>0.000000</td>\n",
       "      <td>-0.010000</td>\n",
       "      <td>-0.182700</td>\n",
       "      <td>0.004900</td>\n",
       "      <td>-0.182700</td>\n",
       "      <td>1.000000</td>\n",
       "      <td>1.000000</td>\n",
       "      <td>0.000000</td>\n",
       "      <td>0.000000</td>\n",
       "      <td>0.000000</td>\n",
       "      <td>19.000000</td>\n",
       "      <td>0.000000</td>\n",
       "      <td>0.000000</td>\n",
       "      <td>2.000000</td>\n",
       "      <td>0.00000</td>\n",
       "      <td>0.000000</td>\n",
       "      <td>0.000000</td>\n",
       "      <td>0.000000</td>\n",
       "      <td>0.000000</td>\n",
       "      <td>0.000000</td>\n",
       "      <td>0.000000</td>\n",
       "      <td>0.000000</td>\n",
       "      <td>0.000000</td>\n",
       "      <td>0.000000e+00</td>\n",
       "      <td>0.000000</td>\n",
       "      <td>0.000000</td>\n",
       "      <td>0.000000</td>\n",
       "      <td>0.000000</td>\n",
       "      <td>0.000000</td>\n",
       "      <td>0.000000</td>\n",
       "      <td>0.000000e+00</td>\n",
       "      <td>0.000000</td>\n",
       "      <td>0.000000</td>\n",
       "      <td>0.000000</td>\n",
       "      <td>0.000000</td>\n",
       "      <td>0.000000</td>\n",
       "      <td>0.000000</td>\n",
       "      <td>0.000000</td>\n",
       "      <td>-209.000000</td>\n",
       "      <td>0.000000</td>\n",
       "      <td>0.000000</td>\n",
       "      <td>0.000000</td>\n",
       "      <td>1.000000</td>\n",
       "      <td>1000.00000</td>\n",
       "      <td>0.000000</td>\n",
       "      <td>-2.349900</td>\n",
       "      <td>0.000000</td>\n",
       "      <td>-2.349900</td>\n",
       "      <td>-664.870000</td>\n",
       "      <td>-9274.750000</td>\n",
       "      <td>-94.200000</td>\n",
       "      <td>-954.550000</td>\n",
       "      <td>0.000000</td>\n",
       "      <td>0.700000</td>\n",
       "      <td>0.000000</td>\n",
       "      <td>0.000000</td>\n",
       "      <td>0.000000</td>\n",
       "      <td>1.000000</td>\n",
       "    </tr>\n",
       "    <tr>\n",
       "      <th>25%</th>\n",
       "      <td>4.009190e+05</td>\n",
       "      <td>36.000000</td>\n",
       "      <td>0.156290</td>\n",
       "      <td>0.134000</td>\n",
       "      <td>0.124200</td>\n",
       "      <td>0.115670</td>\n",
       "      <td>0.042400</td>\n",
       "      <td>0.074080</td>\n",
       "      <td>3.000000</td>\n",
       "      <td>4.000000</td>\n",
       "      <td>1.000000</td>\n",
       "      <td>26.000000</td>\n",
       "      <td>660.000000</td>\n",
       "      <td>679.000000</td>\n",
       "      <td>7.000000</td>\n",
       "      <td>6.000000</td>\n",
       "      <td>17.000000</td>\n",
       "      <td>4.00000</td>\n",
       "      <td>114.000000</td>\n",
       "      <td>0.000000</td>\n",
       "      <td>2.000000</td>\n",
       "      <td>0.000000</td>\n",
       "      <td>0.000000</td>\n",
       "      <td>0.000000</td>\n",
       "      <td>0.000000</td>\n",
       "      <td>0.000000</td>\n",
       "      <td>3.121000e+03</td>\n",
       "      <td>0.310000</td>\n",
       "      <td>880.000000</td>\n",
       "      <td>15.000000</td>\n",
       "      <td>0.820000</td>\n",
       "      <td>0.000000</td>\n",
       "      <td>0.140000</td>\n",
       "      <td>3.200333e+03</td>\n",
       "      <td>1.000000</td>\n",
       "      <td>9.000000</td>\n",
       "      <td>9.000000</td>\n",
       "      <td>0.000000</td>\n",
       "      <td>0.000000</td>\n",
       "      <td>3500.000000</td>\n",
       "      <td>0.000000</td>\n",
       "      <td>-35.000000</td>\n",
       "      <td>0.000000</td>\n",
       "      <td>9.000000</td>\n",
       "      <td>6.000000</td>\n",
       "      <td>37332.000000</td>\n",
       "      <td>4000.00000</td>\n",
       "      <td>131.620000</td>\n",
       "      <td>1005.760000</td>\n",
       "      <td>500.890000</td>\n",
       "      <td>274.870000</td>\n",
       "      <td>-73.180000</td>\n",
       "      <td>0.000000</td>\n",
       "      <td>0.000000</td>\n",
       "      <td>0.000000</td>\n",
       "      <td>0.000000</td>\n",
       "      <td>1.000000</td>\n",
       "      <td>0.000000</td>\n",
       "      <td>0.000000</td>\n",
       "      <td>0.000000</td>\n",
       "      <td>2.000000</td>\n",
       "    </tr>\n",
       "    <tr>\n",
       "      <th>50%</th>\n",
       "      <td>6.005540e+05</td>\n",
       "      <td>36.000000</td>\n",
       "      <td>0.209760</td>\n",
       "      <td>0.184000</td>\n",
       "      <td>0.173000</td>\n",
       "      <td>0.161500</td>\n",
       "      <td>0.072400</td>\n",
       "      <td>0.091700</td>\n",
       "      <td>4.000000</td>\n",
       "      <td>6.000000</td>\n",
       "      <td>1.000000</td>\n",
       "      <td>67.000000</td>\n",
       "      <td>680.000000</td>\n",
       "      <td>699.000000</td>\n",
       "      <td>10.000000</td>\n",
       "      <td>9.000000</td>\n",
       "      <td>25.000000</td>\n",
       "      <td>6.00000</td>\n",
       "      <td>271.000000</td>\n",
       "      <td>1.000000</td>\n",
       "      <td>4.000000</td>\n",
       "      <td>0.000000</td>\n",
       "      <td>0.000000</td>\n",
       "      <td>0.000000</td>\n",
       "      <td>0.000000</td>\n",
       "      <td>0.000000</td>\n",
       "      <td>8.549000e+03</td>\n",
       "      <td>0.600000</td>\n",
       "      <td>4100.000000</td>\n",
       "      <td>22.000000</td>\n",
       "      <td>0.940000</td>\n",
       "      <td>0.000000</td>\n",
       "      <td>0.220000</td>\n",
       "      <td>4.666667e+03</td>\n",
       "      <td>1.000000</td>\n",
       "      <td>16.000000</td>\n",
       "      <td>15.000000</td>\n",
       "      <td>0.000000</td>\n",
       "      <td>0.000000</td>\n",
       "      <td>6000.000000</td>\n",
       "      <td>1626.550000</td>\n",
       "      <td>-3.000000</td>\n",
       "      <td>0.000000</td>\n",
       "      <td>14.000000</td>\n",
       "      <td>21.000000</td>\n",
       "      <td>68599.000000</td>\n",
       "      <td>6500.00000</td>\n",
       "      <td>217.740000</td>\n",
       "      <td>2583.830000</td>\n",
       "      <td>1587.500000</td>\n",
       "      <td>700.840100</td>\n",
       "      <td>-34.440000</td>\n",
       "      <td>0.000000</td>\n",
       "      <td>0.000000</td>\n",
       "      <td>0.000000</td>\n",
       "      <td>0.000000</td>\n",
       "      <td>1.000000</td>\n",
       "      <td>0.000000</td>\n",
       "      <td>0.000000</td>\n",
       "      <td>0.000000</td>\n",
       "      <td>44.000000</td>\n",
       "    </tr>\n",
       "    <tr>\n",
       "      <th>75%</th>\n",
       "      <td>8.926340e+05</td>\n",
       "      <td>36.000000</td>\n",
       "      <td>0.283810</td>\n",
       "      <td>0.250000</td>\n",
       "      <td>0.240000</td>\n",
       "      <td>0.224300</td>\n",
       "      <td>0.112000</td>\n",
       "      <td>0.116600</td>\n",
       "      <td>5.000000</td>\n",
       "      <td>8.000000</td>\n",
       "      <td>3.000000</td>\n",
       "      <td>137.000000</td>\n",
       "      <td>720.000000</td>\n",
       "      <td>739.000000</td>\n",
       "      <td>13.000000</td>\n",
       "      <td>12.000000</td>\n",
       "      <td>35.000000</td>\n",
       "      <td>9.00000</td>\n",
       "      <td>525.000000</td>\n",
       "      <td>2.000000</td>\n",
       "      <td>7.000000</td>\n",
       "      <td>0.000000</td>\n",
       "      <td>0.000000</td>\n",
       "      <td>3.000000</td>\n",
       "      <td>0.000000</td>\n",
       "      <td>0.000000</td>\n",
       "      <td>1.952100e+04</td>\n",
       "      <td>0.840000</td>\n",
       "      <td>13180.000000</td>\n",
       "      <td>30.000000</td>\n",
       "      <td>1.000000</td>\n",
       "      <td>1.000000</td>\n",
       "      <td>0.320000</td>\n",
       "      <td>6.825000e+03</td>\n",
       "      <td>2.000000</td>\n",
       "      <td>33.000000</td>\n",
       "      <td>32.000000</td>\n",
       "      <td>0.000000</td>\n",
       "      <td>0.000000</td>\n",
       "      <td>11000.000000</td>\n",
       "      <td>4126.720000</td>\n",
       "      <td>25.000000</td>\n",
       "      <td>0.000000</td>\n",
       "      <td>22.000000</td>\n",
       "      <td>65.000000</td>\n",
       "      <td>101901.000000</td>\n",
       "      <td>12000.00000</td>\n",
       "      <td>371.580000</td>\n",
       "      <td>5548.400000</td>\n",
       "      <td>4000.000000</td>\n",
       "      <td>1458.540000</td>\n",
       "      <td>-13.920000</td>\n",
       "      <td>0.000000</td>\n",
       "      <td>0.000000</td>\n",
       "      <td>0.000000</td>\n",
       "      <td>0.000000</td>\n",
       "      <td>1.000000</td>\n",
       "      <td>0.000000</td>\n",
       "      <td>0.000000</td>\n",
       "      <td>0.000000</td>\n",
       "      <td>115.000000</td>\n",
       "    </tr>\n",
       "    <tr>\n",
       "      <th>max</th>\n",
       "      <td>1.255725e+06</td>\n",
       "      <td>60.000000</td>\n",
       "      <td>0.512290</td>\n",
       "      <td>0.497500</td>\n",
       "      <td>0.492500</td>\n",
       "      <td>0.319900</td>\n",
       "      <td>0.366000</td>\n",
       "      <td>0.283700</td>\n",
       "      <td>7.000000</td>\n",
       "      <td>11.000000</td>\n",
       "      <td>20.000000</td>\n",
       "      <td>755.000000</td>\n",
       "      <td>880.000000</td>\n",
       "      <td>899.000000</td>\n",
       "      <td>59.000000</td>\n",
       "      <td>54.000000</td>\n",
       "      <td>136.000000</td>\n",
       "      <td>51.00000</td>\n",
       "      <td>14985.000000</td>\n",
       "      <td>105.000000</td>\n",
       "      <td>379.000000</td>\n",
       "      <td>83.000000</td>\n",
       "      <td>463881.000000</td>\n",
       "      <td>99.000000</td>\n",
       "      <td>38.000000</td>\n",
       "      <td>20.000000</td>\n",
       "      <td>1.435667e+06</td>\n",
       "      <td>5.950000</td>\n",
       "      <td>646285.000000</td>\n",
       "      <td>126.000000</td>\n",
       "      <td>1.000000</td>\n",
       "      <td>20.000000</td>\n",
       "      <td>10.010000</td>\n",
       "      <td>1.750003e+06</td>\n",
       "      <td>8.000000</td>\n",
       "      <td>141.000000</td>\n",
       "      <td>141.000000</td>\n",
       "      <td>42.000000</td>\n",
       "      <td>21.000000</td>\n",
       "      <td>72499.000000</td>\n",
       "      <td>23450.950000</td>\n",
       "      <td>286.000000</td>\n",
       "      <td>2704.000000</td>\n",
       "      <td>44.000000</td>\n",
       "      <td>100.000000</td>\n",
       "      <td>136486.000000</td>\n",
       "      <td>35000.00000</td>\n",
       "      <td>2251.510000</td>\n",
       "      <td>40702.390000</td>\n",
       "      <td>35000.000000</td>\n",
       "      <td>15617.030000</td>\n",
       "      <td>32.060000</td>\n",
       "      <td>0.000000</td>\n",
       "      <td>25000.000000</td>\n",
       "      <td>25000.000000</td>\n",
       "      <td>21117.900000</td>\n",
       "      <td>1.012500</td>\n",
       "      <td>39.000000</td>\n",
       "      <td>33.000000</td>\n",
       "      <td>25000.000000</td>\n",
       "      <td>1189.000000</td>\n",
       "    </tr>\n",
       "  </tbody>\n",
       "</table>\n",
       "</div>"
      ],
      "text/plain": [
       "       ListingNumber           Term    BorrowerAPR   BorrowerRate  \\\n",
       "count   1.139370e+05  113937.000000  113912.000000  113937.000000   \n",
       "mean    6.278857e+05      40.830248       0.218828       0.192764   \n",
       "std     3.280762e+05      10.436212       0.080364       0.074818   \n",
       "min     4.000000e+00      12.000000       0.006530       0.000000   \n",
       "25%     4.009190e+05      36.000000       0.156290       0.134000   \n",
       "50%     6.005540e+05      36.000000       0.209760       0.184000   \n",
       "75%     8.926340e+05      36.000000       0.283810       0.250000   \n",
       "max     1.255725e+06      60.000000       0.512290       0.497500   \n",
       "\n",
       "         LenderYield  EstimatedEffectiveYield  EstimatedLoss  EstimatedReturn  \\\n",
       "count  113937.000000             84853.000000   84853.000000     84853.000000   \n",
       "mean        0.182701                 0.168661       0.080306         0.096068   \n",
       "std         0.074516                 0.068467       0.046764         0.030403   \n",
       "min        -0.010000                -0.182700       0.004900        -0.182700   \n",
       "25%         0.124200                 0.115670       0.042400         0.074080   \n",
       "50%         0.173000                 0.161500       0.072400         0.091700   \n",
       "75%         0.240000                 0.224300       0.112000         0.116600   \n",
       "max         0.492500                 0.319900       0.366000         0.283700   \n",
       "\n",
       "       ProsperRating (numeric)  ProsperScore  ListingCategory (numeric)  \\\n",
       "count             84853.000000  84853.000000              113937.000000   \n",
       "mean                  4.072243      5.950067                   2.774209   \n",
       "std                   1.673227      2.376501                   3.996797   \n",
       "min                   1.000000      1.000000                   0.000000   \n",
       "25%                   3.000000      4.000000                   1.000000   \n",
       "50%                   4.000000      6.000000                   1.000000   \n",
       "75%                   5.000000      8.000000                   3.000000   \n",
       "max                   7.000000     11.000000                  20.000000   \n",
       "\n",
       "       EmploymentStatusDuration  CreditScoreRangeLower  CreditScoreRangeUpper  \\\n",
       "count             106312.000000          113346.000000          113346.000000   \n",
       "mean                  96.071582             685.567731             704.567731   \n",
       "std                   94.480605              66.458275              66.458275   \n",
       "min                    0.000000               0.000000              19.000000   \n",
       "25%                   26.000000             660.000000             679.000000   \n",
       "50%                   67.000000             680.000000             699.000000   \n",
       "75%                  137.000000             720.000000             739.000000   \n",
       "max                  755.000000             880.000000             899.000000   \n",
       "\n",
       "       CurrentCreditLines  OpenCreditLines  TotalCreditLinespast7years  \\\n",
       "count       106333.000000    106333.000000               113240.000000   \n",
       "mean            10.317192         9.260164                   26.754539   \n",
       "std              5.457866         5.022644                   13.637871   \n",
       "min              0.000000         0.000000                    2.000000   \n",
       "25%              7.000000         6.000000                   17.000000   \n",
       "50%             10.000000         9.000000                   25.000000   \n",
       "75%             13.000000        12.000000                   35.000000   \n",
       "max             59.000000        54.000000                  136.000000   \n",
       "\n",
       "       OpenRevolvingAccounts  OpenRevolvingMonthlyPayment  \\\n",
       "count           113937.00000                113937.000000   \n",
       "mean                 6.96979                   398.292161   \n",
       "std                  4.63097                   447.159711   \n",
       "min                  0.00000                     0.000000   \n",
       "25%                  4.00000                   114.000000   \n",
       "50%                  6.00000                   271.000000   \n",
       "75%                  9.00000                   525.000000   \n",
       "max                 51.00000                 14985.000000   \n",
       "\n",
       "       InquiriesLast6Months  TotalInquiries  CurrentDelinquencies  \\\n",
       "count         113240.000000   112778.000000         113240.000000   \n",
       "mean               1.435085        5.584405              0.592052   \n",
       "std                2.437507        6.429946              1.978707   \n",
       "min                0.000000        0.000000              0.000000   \n",
       "25%                0.000000        2.000000              0.000000   \n",
       "50%                1.000000        4.000000              0.000000   \n",
       "75%                2.000000        7.000000              0.000000   \n",
       "max              105.000000      379.000000             83.000000   \n",
       "\n",
       "       AmountDelinquent  DelinquenciesLast7Years  PublicRecordsLast10Years  \\\n",
       "count     106315.000000            112947.000000             113240.000000   \n",
       "mean         984.507059                 4.154984                  0.312646   \n",
       "std         7158.270157                10.160216                  0.727868   \n",
       "min            0.000000                 0.000000                  0.000000   \n",
       "25%            0.000000                 0.000000                  0.000000   \n",
       "50%            0.000000                 0.000000                  0.000000   \n",
       "75%            0.000000                 3.000000                  0.000000   \n",
       "max       463881.000000                99.000000                 38.000000   \n",
       "\n",
       "       PublicRecordsLast12Months  RevolvingCreditBalance  BankcardUtilization  \\\n",
       "count              106333.000000            1.063330e+05        106333.000000   \n",
       "mean                    0.015094            1.759871e+04             0.561309   \n",
       "std                     0.154092            3.293640e+04             0.317918   \n",
       "min                     0.000000            0.000000e+00             0.000000   \n",
       "25%                     0.000000            3.121000e+03             0.310000   \n",
       "50%                     0.000000            8.549000e+03             0.600000   \n",
       "75%                     0.000000            1.952100e+04             0.840000   \n",
       "max                    20.000000            1.435667e+06             5.950000   \n",
       "\n",
       "       AvailableBankcardCredit    TotalTrades  \\\n",
       "count            106393.000000  106393.000000   \n",
       "mean              11210.225447      23.230034   \n",
       "std               19818.361309      11.871311   \n",
       "min                   0.000000       0.000000   \n",
       "25%                 880.000000      15.000000   \n",
       "50%                4100.000000      22.000000   \n",
       "75%               13180.000000      30.000000   \n",
       "max              646285.000000     126.000000   \n",
       "\n",
       "       TradesNeverDelinquent (percentage)  TradesOpenedLast6Months  \\\n",
       "count                       106393.000000            106393.000000   \n",
       "mean                             0.885897                 0.802327   \n",
       "std                              0.148179                 1.097637   \n",
       "min                              0.000000                 0.000000   \n",
       "25%                              0.820000                 0.000000   \n",
       "50%                              0.940000                 0.000000   \n",
       "75%                              1.000000                 1.000000   \n",
       "max                              1.000000                20.000000   \n",
       "\n",
       "       DebtToIncomeRatio  StatedMonthlyIncome  TotalProsperLoans  \\\n",
       "count      105383.000000         1.139370e+05       22085.000000   \n",
       "mean            0.275947         5.608026e+03           1.421100   \n",
       "std             0.551759         7.478497e+03           0.764042   \n",
       "min             0.000000         0.000000e+00           0.000000   \n",
       "25%             0.140000         3.200333e+03           1.000000   \n",
       "50%             0.220000         4.666667e+03           1.000000   \n",
       "75%             0.320000         6.825000e+03           2.000000   \n",
       "max            10.010000         1.750003e+06           8.000000   \n",
       "\n",
       "       TotalProsperPaymentsBilled  OnTimeProsperPayments  \\\n",
       "count                22085.000000           22085.000000   \n",
       "mean                    22.934345              22.271949   \n",
       "std                     19.249584              18.830425   \n",
       "min                      0.000000               0.000000   \n",
       "25%                      9.000000               9.000000   \n",
       "50%                     16.000000              15.000000   \n",
       "75%                     33.000000              32.000000   \n",
       "max                    141.000000             141.000000   \n",
       "\n",
       "       ProsperPaymentsLessThanOneMonthLate  ProsperPaymentsOneMonthPlusLate  \\\n",
       "count                         22085.000000                     22085.000000   \n",
       "mean                              0.613629                         0.048540   \n",
       "std                               2.446827                         0.556285   \n",
       "min                               0.000000                         0.000000   \n",
       "25%                               0.000000                         0.000000   \n",
       "50%                               0.000000                         0.000000   \n",
       "75%                               0.000000                         0.000000   \n",
       "max                              42.000000                        21.000000   \n",
       "\n",
       "       ProsperPrincipalBorrowed  ProsperPrincipalOutstanding  \\\n",
       "count              22085.000000                 22085.000000   \n",
       "mean                8472.311961                  2930.313906   \n",
       "std                 7395.507650                  3806.635075   \n",
       "min                    0.000000                     0.000000   \n",
       "25%                 3500.000000                     0.000000   \n",
       "50%                 6000.000000                  1626.550000   \n",
       "75%                11000.000000                  4126.720000   \n",
       "max                72499.000000                 23450.950000   \n",
       "\n",
       "       ScorexChangeAtTimeOfListing  LoanCurrentDaysDelinquent  \\\n",
       "count                 18928.000000              113937.000000   \n",
       "mean                     -3.223214                 152.816539   \n",
       "std                      50.063567                 466.320254   \n",
       "min                    -209.000000                   0.000000   \n",
       "25%                     -35.000000                   0.000000   \n",
       "50%                      -3.000000                   0.000000   \n",
       "75%                      25.000000                   0.000000   \n",
       "max                     286.000000                2704.000000   \n",
       "\n",
       "       LoanFirstDefaultedCycleNumber  LoanMonthsSinceOrigination  \\\n",
       "count                   16952.000000               113937.000000   \n",
       "mean                       16.268464                   31.896882   \n",
       "std                         9.005898                   29.974184   \n",
       "min                         0.000000                    0.000000   \n",
       "25%                         9.000000                    6.000000   \n",
       "50%                        14.000000                   21.000000   \n",
       "75%                        22.000000                   65.000000   \n",
       "max                        44.000000                  100.000000   \n",
       "\n",
       "          LoanNumber  LoanOriginalAmount  MonthlyLoanPayment  \\\n",
       "count  113937.000000        113937.00000       113937.000000   \n",
       "mean    69444.474271          8337.01385          272.475783   \n",
       "std     38930.479610          6245.80058          192.697812   \n",
       "min         1.000000          1000.00000            0.000000   \n",
       "25%     37332.000000          4000.00000          131.620000   \n",
       "50%     68599.000000          6500.00000          217.740000   \n",
       "75%    101901.000000         12000.00000          371.580000   \n",
       "max    136486.000000         35000.00000         2251.510000   \n",
       "\n",
       "       LP_CustomerPayments  LP_CustomerPrincipalPayments  LP_InterestandFees  \\\n",
       "count        113937.000000                 113937.000000       113937.000000   \n",
       "mean           4183.079489                   3105.536588         1077.542901   \n",
       "std            4790.907234                   4069.527670         1183.414168   \n",
       "min              -2.349900                      0.000000           -2.349900   \n",
       "25%            1005.760000                    500.890000          274.870000   \n",
       "50%            2583.830000                   1587.500000          700.840100   \n",
       "75%            5548.400000                   4000.000000         1458.540000   \n",
       "max           40702.390000                  35000.000000        15617.030000   \n",
       "\n",
       "       LP_ServiceFees  LP_CollectionFees  LP_GrossPrincipalLoss  \\\n",
       "count   113937.000000      113937.000000          113937.000000   \n",
       "mean       -54.725641         -14.242698             700.446342   \n",
       "std         60.675425         109.232758            2388.513831   \n",
       "min       -664.870000       -9274.750000             -94.200000   \n",
       "25%        -73.180000           0.000000               0.000000   \n",
       "50%        -34.440000           0.000000               0.000000   \n",
       "75%        -13.920000           0.000000               0.000000   \n",
       "max         32.060000           0.000000           25000.000000   \n",
       "\n",
       "       LP_NetPrincipalLoss  LP_NonPrincipalRecoverypayments  PercentFunded  \\\n",
       "count        113937.000000                    113937.000000  113937.000000   \n",
       "mean            681.420499                        25.142686       0.998584   \n",
       "std            2357.167068                       275.657937       0.017919   \n",
       "min            -954.550000                         0.000000       0.700000   \n",
       "25%               0.000000                         0.000000       1.000000   \n",
       "50%               0.000000                         0.000000       1.000000   \n",
       "75%               0.000000                         0.000000       1.000000   \n",
       "max           25000.000000                     21117.900000       1.012500   \n",
       "\n",
       "       Recommendations  InvestmentFromFriendsCount  \\\n",
       "count    113937.000000               113937.000000   \n",
       "mean          0.048027                    0.023460   \n",
       "std           0.332353                    0.232412   \n",
       "min           0.000000                    0.000000   \n",
       "25%           0.000000                    0.000000   \n",
       "50%           0.000000                    0.000000   \n",
       "75%           0.000000                    0.000000   \n",
       "max          39.000000                   33.000000   \n",
       "\n",
       "       InvestmentFromFriendsAmount      Investors  \n",
       "count                113937.000000  113937.000000  \n",
       "mean                     16.550751      80.475228  \n",
       "std                     294.545422     103.239020  \n",
       "min                       0.000000       1.000000  \n",
       "25%                       0.000000       2.000000  \n",
       "50%                       0.000000      44.000000  \n",
       "75%                       0.000000     115.000000  \n",
       "max                   25000.000000    1189.000000  "
      ]
     },
     "execution_count": 7,
     "metadata": {},
     "output_type": "execute_result"
    }
   ],
   "source": [
    "# Summary statistics\n",
    "loan.describe()"
   ]
  },
  {
   "cell_type": "code",
   "execution_count": 8,
   "metadata": {},
   "outputs": [
    {
     "data": {
      "text/plain": [
       "0"
      ]
     },
     "execution_count": 8,
     "metadata": {},
     "output_type": "execute_result"
    }
   ],
   "source": [
    "# Duplicated records\n",
    "loan.duplicated().sum()"
   ]
  },
  {
   "cell_type": "code",
   "execution_count": 9,
   "metadata": {},
   "outputs": [
    {
     "data": {
      "text/html": [
       "<div>\n",
       "<style scoped>\n",
       "    .dataframe tbody tr th:only-of-type {\n",
       "        vertical-align: middle;\n",
       "    }\n",
       "\n",
       "    .dataframe tbody tr th {\n",
       "        vertical-align: top;\n",
       "    }\n",
       "\n",
       "    .dataframe thead th {\n",
       "        text-align: right;\n",
       "    }\n",
       "</style>\n",
       "<table border=\"1\" class=\"dataframe\">\n",
       "  <thead>\n",
       "    <tr style=\"text-align: right;\">\n",
       "      <th></th>\n",
       "      <th>Feature</th>\n",
       "      <th>Missing Values</th>\n",
       "      <th>Percentage</th>\n",
       "    </tr>\n",
       "  </thead>\n",
       "  <tbody>\n",
       "    <tr>\n",
       "      <th>13</th>\n",
       "      <td>GroupKey</td>\n",
       "      <td>100596</td>\n",
       "      <td>88.29</td>\n",
       "    </tr>\n",
       "    <tr>\n",
       "      <th>42</th>\n",
       "      <td>LoanFirstDefaultedCycleNumber</td>\n",
       "      <td>96985</td>\n",
       "      <td>85.12</td>\n",
       "    </tr>\n",
       "    <tr>\n",
       "      <th>41</th>\n",
       "      <td>ScorexChangeAtTimeOfListing</td>\n",
       "      <td>95009</td>\n",
       "      <td>83.39</td>\n",
       "    </tr>\n",
       "    <tr>\n",
       "      <th>40</th>\n",
       "      <td>ProsperPrincipalOutstanding</td>\n",
       "      <td>91852</td>\n",
       "      <td>80.62</td>\n",
       "    </tr>\n",
       "    <tr>\n",
       "      <th>39</th>\n",
       "      <td>ProsperPrincipalBorrowed</td>\n",
       "      <td>91852</td>\n",
       "      <td>80.62</td>\n",
       "    </tr>\n",
       "    <tr>\n",
       "      <th>38</th>\n",
       "      <td>ProsperPaymentsOneMonthPlusLate</td>\n",
       "      <td>91852</td>\n",
       "      <td>80.62</td>\n",
       "    </tr>\n",
       "    <tr>\n",
       "      <th>37</th>\n",
       "      <td>ProsperPaymentsLessThanOneMonthLate</td>\n",
       "      <td>91852</td>\n",
       "      <td>80.62</td>\n",
       "    </tr>\n",
       "    <tr>\n",
       "      <th>36</th>\n",
       "      <td>OnTimeProsperPayments</td>\n",
       "      <td>91852</td>\n",
       "      <td>80.62</td>\n",
       "    </tr>\n",
       "    <tr>\n",
       "      <th>35</th>\n",
       "      <td>TotalProsperPaymentsBilled</td>\n",
       "      <td>91852</td>\n",
       "      <td>80.62</td>\n",
       "    </tr>\n",
       "    <tr>\n",
       "      <th>34</th>\n",
       "      <td>TotalProsperLoans</td>\n",
       "      <td>91852</td>\n",
       "      <td>80.62</td>\n",
       "    </tr>\n",
       "    <tr>\n",
       "      <th>0</th>\n",
       "      <td>CreditGrade</td>\n",
       "      <td>84984</td>\n",
       "      <td>74.59</td>\n",
       "    </tr>\n",
       "    <tr>\n",
       "      <th>1</th>\n",
       "      <td>ClosedDate</td>\n",
       "      <td>58848</td>\n",
       "      <td>51.65</td>\n",
       "    </tr>\n",
       "    <tr>\n",
       "      <th>3</th>\n",
       "      <td>EstimatedEffectiveYield</td>\n",
       "      <td>29084</td>\n",
       "      <td>25.53</td>\n",
       "    </tr>\n",
       "    <tr>\n",
       "      <th>4</th>\n",
       "      <td>EstimatedLoss</td>\n",
       "      <td>29084</td>\n",
       "      <td>25.53</td>\n",
       "    </tr>\n",
       "    <tr>\n",
       "      <th>5</th>\n",
       "      <td>EstimatedReturn</td>\n",
       "      <td>29084</td>\n",
       "      <td>25.53</td>\n",
       "    </tr>\n",
       "    <tr>\n",
       "      <th>6</th>\n",
       "      <td>ProsperRating (numeric)</td>\n",
       "      <td>29084</td>\n",
       "      <td>25.53</td>\n",
       "    </tr>\n",
       "    <tr>\n",
       "      <th>7</th>\n",
       "      <td>ProsperRating (Alpha)</td>\n",
       "      <td>29084</td>\n",
       "      <td>25.53</td>\n",
       "    </tr>\n",
       "    <tr>\n",
       "      <th>8</th>\n",
       "      <td>ProsperScore</td>\n",
       "      <td>29084</td>\n",
       "      <td>25.53</td>\n",
       "    </tr>\n",
       "    <tr>\n",
       "      <th>33</th>\n",
       "      <td>DebtToIncomeRatio</td>\n",
       "      <td>8554</td>\n",
       "      <td>7.51</td>\n",
       "    </tr>\n",
       "    <tr>\n",
       "      <th>12</th>\n",
       "      <td>EmploymentStatusDuration</td>\n",
       "      <td>7625</td>\n",
       "      <td>6.69</td>\n",
       "    </tr>\n",
       "    <tr>\n",
       "      <th>23</th>\n",
       "      <td>AmountDelinquent</td>\n",
       "      <td>7622</td>\n",
       "      <td>6.69</td>\n",
       "    </tr>\n",
       "    <tr>\n",
       "      <th>28</th>\n",
       "      <td>BankcardUtilization</td>\n",
       "      <td>7604</td>\n",
       "      <td>6.67</td>\n",
       "    </tr>\n",
       "    <tr>\n",
       "      <th>26</th>\n",
       "      <td>PublicRecordsLast12Months</td>\n",
       "      <td>7604</td>\n",
       "      <td>6.67</td>\n",
       "    </tr>\n",
       "    <tr>\n",
       "      <th>27</th>\n",
       "      <td>RevolvingCreditBalance</td>\n",
       "      <td>7604</td>\n",
       "      <td>6.67</td>\n",
       "    </tr>\n",
       "    <tr>\n",
       "      <th>18</th>\n",
       "      <td>OpenCreditLines</td>\n",
       "      <td>7604</td>\n",
       "      <td>6.67</td>\n",
       "    </tr>\n",
       "    <tr>\n",
       "      <th>17</th>\n",
       "      <td>CurrentCreditLines</td>\n",
       "      <td>7604</td>\n",
       "      <td>6.67</td>\n",
       "    </tr>\n",
       "    <tr>\n",
       "      <th>32</th>\n",
       "      <td>TradesOpenedLast6Months</td>\n",
       "      <td>7544</td>\n",
       "      <td>6.62</td>\n",
       "    </tr>\n",
       "    <tr>\n",
       "      <th>29</th>\n",
       "      <td>AvailableBankcardCredit</td>\n",
       "      <td>7544</td>\n",
       "      <td>6.62</td>\n",
       "    </tr>\n",
       "    <tr>\n",
       "      <th>30</th>\n",
       "      <td>TotalTrades</td>\n",
       "      <td>7544</td>\n",
       "      <td>6.62</td>\n",
       "    </tr>\n",
       "    <tr>\n",
       "      <th>31</th>\n",
       "      <td>TradesNeverDelinquent (percentage)</td>\n",
       "      <td>7544</td>\n",
       "      <td>6.62</td>\n",
       "    </tr>\n",
       "    <tr>\n",
       "      <th>9</th>\n",
       "      <td>BorrowerState</td>\n",
       "      <td>5515</td>\n",
       "      <td>4.84</td>\n",
       "    </tr>\n",
       "    <tr>\n",
       "      <th>10</th>\n",
       "      <td>Occupation</td>\n",
       "      <td>3588</td>\n",
       "      <td>3.15</td>\n",
       "    </tr>\n",
       "    <tr>\n",
       "      <th>11</th>\n",
       "      <td>EmploymentStatus</td>\n",
       "      <td>2255</td>\n",
       "      <td>1.98</td>\n",
       "    </tr>\n",
       "    <tr>\n",
       "      <th>21</th>\n",
       "      <td>TotalInquiries</td>\n",
       "      <td>1159</td>\n",
       "      <td>1.02</td>\n",
       "    </tr>\n",
       "    <tr>\n",
       "      <th>24</th>\n",
       "      <td>DelinquenciesLast7Years</td>\n",
       "      <td>990</td>\n",
       "      <td>0.87</td>\n",
       "    </tr>\n",
       "    <tr>\n",
       "      <th>25</th>\n",
       "      <td>PublicRecordsLast10Years</td>\n",
       "      <td>697</td>\n",
       "      <td>0.61</td>\n",
       "    </tr>\n",
       "    <tr>\n",
       "      <th>22</th>\n",
       "      <td>CurrentDelinquencies</td>\n",
       "      <td>697</td>\n",
       "      <td>0.61</td>\n",
       "    </tr>\n",
       "    <tr>\n",
       "      <th>20</th>\n",
       "      <td>InquiriesLast6Months</td>\n",
       "      <td>697</td>\n",
       "      <td>0.61</td>\n",
       "    </tr>\n",
       "    <tr>\n",
       "      <th>19</th>\n",
       "      <td>TotalCreditLinespast7years</td>\n",
       "      <td>697</td>\n",
       "      <td>0.61</td>\n",
       "    </tr>\n",
       "    <tr>\n",
       "      <th>16</th>\n",
       "      <td>FirstRecordedCreditLine</td>\n",
       "      <td>697</td>\n",
       "      <td>0.61</td>\n",
       "    </tr>\n",
       "    <tr>\n",
       "      <th>15</th>\n",
       "      <td>CreditScoreRangeUpper</td>\n",
       "      <td>591</td>\n",
       "      <td>0.52</td>\n",
       "    </tr>\n",
       "    <tr>\n",
       "      <th>14</th>\n",
       "      <td>CreditScoreRangeLower</td>\n",
       "      <td>591</td>\n",
       "      <td>0.52</td>\n",
       "    </tr>\n",
       "    <tr>\n",
       "      <th>2</th>\n",
       "      <td>BorrowerAPR</td>\n",
       "      <td>25</td>\n",
       "      <td>0.02</td>\n",
       "    </tr>\n",
       "  </tbody>\n",
       "</table>\n",
       "</div>"
      ],
      "text/plain": [
       "                                Feature  Missing Values  Percentage\n",
       "13                             GroupKey          100596       88.29\n",
       "42        LoanFirstDefaultedCycleNumber           96985       85.12\n",
       "41          ScorexChangeAtTimeOfListing           95009       83.39\n",
       "40          ProsperPrincipalOutstanding           91852       80.62\n",
       "39             ProsperPrincipalBorrowed           91852       80.62\n",
       "38      ProsperPaymentsOneMonthPlusLate           91852       80.62\n",
       "37  ProsperPaymentsLessThanOneMonthLate           91852       80.62\n",
       "36                OnTimeProsperPayments           91852       80.62\n",
       "35           TotalProsperPaymentsBilled           91852       80.62\n",
       "34                    TotalProsperLoans           91852       80.62\n",
       "0                           CreditGrade           84984       74.59\n",
       "1                            ClosedDate           58848       51.65\n",
       "3               EstimatedEffectiveYield           29084       25.53\n",
       "4                         EstimatedLoss           29084       25.53\n",
       "5                       EstimatedReturn           29084       25.53\n",
       "6               ProsperRating (numeric)           29084       25.53\n",
       "7                 ProsperRating (Alpha)           29084       25.53\n",
       "8                          ProsperScore           29084       25.53\n",
       "33                    DebtToIncomeRatio            8554        7.51\n",
       "12             EmploymentStatusDuration            7625        6.69\n",
       "23                     AmountDelinquent            7622        6.69\n",
       "28                  BankcardUtilization            7604        6.67\n",
       "26            PublicRecordsLast12Months            7604        6.67\n",
       "27               RevolvingCreditBalance            7604        6.67\n",
       "18                      OpenCreditLines            7604        6.67\n",
       "17                   CurrentCreditLines            7604        6.67\n",
       "32              TradesOpenedLast6Months            7544        6.62\n",
       "29              AvailableBankcardCredit            7544        6.62\n",
       "30                          TotalTrades            7544        6.62\n",
       "31   TradesNeverDelinquent (percentage)            7544        6.62\n",
       "9                         BorrowerState            5515        4.84\n",
       "10                           Occupation            3588        3.15\n",
       "11                     EmploymentStatus            2255        1.98\n",
       "21                       TotalInquiries            1159        1.02\n",
       "24              DelinquenciesLast7Years             990        0.87\n",
       "25             PublicRecordsLast10Years             697        0.61\n",
       "22                 CurrentDelinquencies             697        0.61\n",
       "20                 InquiriesLast6Months             697        0.61\n",
       "19           TotalCreditLinespast7years             697        0.61\n",
       "16              FirstRecordedCreditLine             697        0.61\n",
       "15                CreditScoreRangeUpper             591        0.52\n",
       "14                CreditScoreRangeLower             591        0.52\n",
       "2                           BorrowerAPR              25        0.02"
      ]
     },
     "execution_count": 9,
     "metadata": {},
     "output_type": "execute_result"
    }
   ],
   "source": [
    "# Missing values\n",
    "n_missing = loan.isnull().sum()\n",
    "\n",
    "# Extract columns with missing values greater than 0\n",
    "n_missing = n_missing[n_missing > 0]\n",
    "\n",
    "# Calculate the percentage of missing values\n",
    "n_missing_pct = np.round(n_missing / loan.shape[0] * 100, 2)\n",
    "\n",
    "# Display the missing values info\n",
    "pd.DataFrame({'Feature': n_missing.index,\n",
    "              'Missing Values': n_missing.values,\n",
    "              'Percentage': n_missing_pct.values}).sort_values('Missing Values', ascending=False)"
   ]
  },
  {
   "cell_type": "markdown",
   "metadata": {},
   "source": [
    "There are 81 variables in this dataset, but variables of interest below are selected to address the questions."
   ]
  },
  {
   "cell_type": "code",
   "execution_count": 10,
   "metadata": {},
   "outputs": [],
   "source": [
    "# Select features of interest for futher exploration\n",
    "subset_cols = ['Term', 'LoanStatus', 'BorrowerAPR', 'ProsperRating (Alpha)', \n",
    "               'ListingCategory (numeric)','EmploymentStatus', 'DelinquenciesLast7Years', \n",
    "               'TotalProsperLoans', 'LoanOriginalAmount', 'LoanOriginationDate', 'Recommendations']\n",
    "\n",
    "loan_subset = loan[subset_cols].copy()"
   ]
  },
  {
   "cell_type": "code",
   "execution_count": 11,
   "metadata": {},
   "outputs": [
    {
     "data": {
      "text/plain": [
       "(113937, 11)"
      ]
     },
     "execution_count": 11,
     "metadata": {},
     "output_type": "execute_result"
    }
   ],
   "source": [
    "loan_subset.shape"
   ]
  },
  {
   "cell_type": "code",
   "execution_count": 12,
   "metadata": {},
   "outputs": [
    {
     "data": {
      "text/html": [
       "<div>\n",
       "<style scoped>\n",
       "    .dataframe tbody tr th:only-of-type {\n",
       "        vertical-align: middle;\n",
       "    }\n",
       "\n",
       "    .dataframe tbody tr th {\n",
       "        vertical-align: top;\n",
       "    }\n",
       "\n",
       "    .dataframe thead th {\n",
       "        text-align: right;\n",
       "    }\n",
       "</style>\n",
       "<table border=\"1\" class=\"dataframe\">\n",
       "  <thead>\n",
       "    <tr style=\"text-align: right;\">\n",
       "      <th></th>\n",
       "      <th>Term</th>\n",
       "      <th>LoanStatus</th>\n",
       "      <th>BorrowerAPR</th>\n",
       "      <th>ProsperRating (Alpha)</th>\n",
       "      <th>ListingCategory (numeric)</th>\n",
       "      <th>EmploymentStatus</th>\n",
       "      <th>DelinquenciesLast7Years</th>\n",
       "      <th>TotalProsperLoans</th>\n",
       "      <th>LoanOriginalAmount</th>\n",
       "      <th>LoanOriginationDate</th>\n",
       "      <th>Recommendations</th>\n",
       "    </tr>\n",
       "  </thead>\n",
       "  <tbody>\n",
       "    <tr>\n",
       "      <th>111561</th>\n",
       "      <td>36</td>\n",
       "      <td>Defaulted</td>\n",
       "      <td>0.24800</td>\n",
       "      <td>NaN</td>\n",
       "      <td>0</td>\n",
       "      <td>Not available</td>\n",
       "      <td>0.0</td>\n",
       "      <td>NaN</td>\n",
       "      <td>1050</td>\n",
       "      <td>2006-11-07 00:00:00</td>\n",
       "      <td>0</td>\n",
       "    </tr>\n",
       "    <tr>\n",
       "      <th>13901</th>\n",
       "      <td>36</td>\n",
       "      <td>Completed</td>\n",
       "      <td>0.22712</td>\n",
       "      <td>C</td>\n",
       "      <td>1</td>\n",
       "      <td>Employed</td>\n",
       "      <td>0.0</td>\n",
       "      <td>NaN</td>\n",
       "      <td>9500</td>\n",
       "      <td>2013-03-06 00:00:00</td>\n",
       "      <td>0</td>\n",
       "    </tr>\n",
       "    <tr>\n",
       "      <th>2208</th>\n",
       "      <td>60</td>\n",
       "      <td>Completed</td>\n",
       "      <td>0.23718</td>\n",
       "      <td>B</td>\n",
       "      <td>2</td>\n",
       "      <td>Employed</td>\n",
       "      <td>6.0</td>\n",
       "      <td>NaN</td>\n",
       "      <td>7500</td>\n",
       "      <td>2012-08-17 00:00:00</td>\n",
       "      <td>0</td>\n",
       "    </tr>\n",
       "    <tr>\n",
       "      <th>63833</th>\n",
       "      <td>36</td>\n",
       "      <td>Current</td>\n",
       "      <td>0.15223</td>\n",
       "      <td>A</td>\n",
       "      <td>1</td>\n",
       "      <td>Employed</td>\n",
       "      <td>0.0</td>\n",
       "      <td>NaN</td>\n",
       "      <td>25000</td>\n",
       "      <td>2014-02-10 00:00:00</td>\n",
       "      <td>0</td>\n",
       "    </tr>\n",
       "    <tr>\n",
       "      <th>109055</th>\n",
       "      <td>36</td>\n",
       "      <td>Current</td>\n",
       "      <td>0.19501</td>\n",
       "      <td>B</td>\n",
       "      <td>7</td>\n",
       "      <td>Employed</td>\n",
       "      <td>0.0</td>\n",
       "      <td>NaN</td>\n",
       "      <td>2700</td>\n",
       "      <td>2013-10-16 00:00:00</td>\n",
       "      <td>0</td>\n",
       "    </tr>\n",
       "  </tbody>\n",
       "</table>\n",
       "</div>"
      ],
      "text/plain": [
       "        Term LoanStatus  BorrowerAPR ProsperRating (Alpha)  \\\n",
       "111561    36  Defaulted      0.24800                   NaN   \n",
       "13901     36  Completed      0.22712                     C   \n",
       "2208      60  Completed      0.23718                     B   \n",
       "63833     36    Current      0.15223                     A   \n",
       "109055    36    Current      0.19501                     B   \n",
       "\n",
       "        ListingCategory (numeric) EmploymentStatus  DelinquenciesLast7Years  \\\n",
       "111561                          0    Not available                      0.0   \n",
       "13901                           1         Employed                      0.0   \n",
       "2208                            2         Employed                      6.0   \n",
       "63833                           1         Employed                      0.0   \n",
       "109055                          7         Employed                      0.0   \n",
       "\n",
       "        TotalProsperLoans  LoanOriginalAmount  LoanOriginationDate  \\\n",
       "111561                NaN                1050  2006-11-07 00:00:00   \n",
       "13901                 NaN                9500  2013-03-06 00:00:00   \n",
       "2208                  NaN                7500  2012-08-17 00:00:00   \n",
       "63833                 NaN               25000  2014-02-10 00:00:00   \n",
       "109055                NaN                2700  2013-10-16 00:00:00   \n",
       "\n",
       "        Recommendations  \n",
       "111561                0  \n",
       "13901                 0  \n",
       "2208                  0  \n",
       "63833                 0  \n",
       "109055                0  "
      ]
     },
     "execution_count": 12,
     "metadata": {},
     "output_type": "execute_result"
    }
   ],
   "source": [
    "loan_subset.sample(5)"
   ]
  },
  {
   "cell_type": "code",
   "execution_count": 13,
   "metadata": {},
   "outputs": [
    {
     "name": "stdout",
     "output_type": "stream",
     "text": [
      "<class 'pandas.core.frame.DataFrame'>\n",
      "RangeIndex: 113937 entries, 0 to 113936\n",
      "Data columns (total 11 columns):\n",
      " #   Column                     Non-Null Count   Dtype  \n",
      "---  ------                     --------------   -----  \n",
      " 0   Term                       113937 non-null  int64  \n",
      " 1   LoanStatus                 113937 non-null  object \n",
      " 2   BorrowerAPR                113912 non-null  float64\n",
      " 3   ProsperRating (Alpha)      84853 non-null   object \n",
      " 4   ListingCategory (numeric)  113937 non-null  int64  \n",
      " 5   EmploymentStatus           111682 non-null  object \n",
      " 6   DelinquenciesLast7Years    112947 non-null  float64\n",
      " 7   TotalProsperLoans          22085 non-null   float64\n",
      " 8   LoanOriginalAmount         113937 non-null  int64  \n",
      " 9   LoanOriginationDate        113937 non-null  object \n",
      " 10  Recommendations            113937 non-null  int64  \n",
      "dtypes: float64(3), int64(4), object(4)\n",
      "memory usage: 9.6+ MB\n"
     ]
    }
   ],
   "source": [
    "loan_subset.info()"
   ]
  },
  {
   "cell_type": "code",
   "execution_count": 14,
   "metadata": {},
   "outputs": [
    {
     "data": {
      "text/plain": [
       "TotalProsperLoans            91852\n",
       "ProsperRating (Alpha)        29084\n",
       "EmploymentStatus              2255\n",
       "DelinquenciesLast7Years        990\n",
       "BorrowerAPR                     25\n",
       "Recommendations                  0\n",
       "LoanOriginationDate              0\n",
       "LoanOriginalAmount               0\n",
       "ListingCategory (numeric)        0\n",
       "LoanStatus                       0\n",
       "Term                             0\n",
       "dtype: int64"
      ]
     },
     "execution_count": 14,
     "metadata": {},
     "output_type": "execute_result"
    }
   ],
   "source": [
    "loan_subset.isnull().sum().sort_values(ascending=False)"
   ]
  },
  {
   "cell_type": "markdown",
   "metadata": {},
   "source": [
    "<a id=\"s1.3\"></a>\n",
    "### Step 1.3: Cleaning"
   ]
  },
  {
   "cell_type": "markdown",
   "metadata": {},
   "source": [
    "#### Define\n",
    "\n",
    "Some column names/values are not informative. Some of the datatypes are correct but not in their best form. finally, there are lots of missing values in come columns. Below are the to-dos to address these issues:\n",
    "\n",
    "- Rename columns\n",
    "- Convert column datatypes\n",
    "- Drop missing values"
   ]
  },
  {
   "cell_type": "markdown",
   "metadata": {},
   "source": [
    "#### Code"
   ]
  },
  {
   "cell_type": "code",
   "execution_count": 15,
   "metadata": {},
   "outputs": [],
   "source": [
    "# Rename columns\n",
    "loan_subset.rename(columns={'ProsperRating (Alpha)': 'ProsperRatingAlpha',\n",
    "                            'ListingCategory (numeric)': 'ListingCategory'}, inplace=True)"
   ]
  },
  {
   "cell_type": "code",
   "execution_count": 16,
   "metadata": {},
   "outputs": [],
   "source": [
    "# Re-encode the Listing Category\n",
    "listing_cat = {0: 'Not Available', 1: 'Debt Consolidation', 2: 'Home Improvement', \n",
    "               3: 'Business', 4: 'Personal Loan', 5: 'Student Use', 6: 'Auto', \n",
    "               7: 'Other', 8: 'Baby&Adoption', 9: 'Boat', 10: 'Cosmetic Procedure',\n",
    "               11: 'Engagement Ring', 12: 'Green Loans', 13: 'Household Expenses',\n",
    "               14: 'Large Purchases', 15: 'Medical/Dental', 16: 'Motorcycle',\n",
    "               17: 'RV', 18: 'Taxes', 19: 'Vacation', 20: 'Wedding Loans'}\n",
    "\n",
    "loan_subset['ListingCategory'] = loan_subset['ListingCategory'].map(listing_cat)"
   ]
  },
  {
   "cell_type": "code",
   "execution_count": 17,
   "metadata": {},
   "outputs": [],
   "source": [
    "# Convert columns to DateTime\n",
    "loan_subset['LoanOriginationDate'] = pd.to_datetime(loan_subset['LoanOriginationDate'])\n",
    "\n",
    "# Convert columns to category\n",
    "cat_cols = ['LoanStatus', 'ProsperRatingAlpha', 'ListingCategory', 'EmploymentStatus']\n",
    "for col in cat_cols:\n",
    "    loan_subset[col] = loan_subset[col].astype('category')"
   ]
  },
  {
   "cell_type": "code",
   "execution_count": 18,
   "metadata": {},
   "outputs": [],
   "source": [
    "# Drop missing values\n",
    "loan_subset.dropna(subset=['ProsperRatingAlpha'], inplace=True)\n",
    "loan_subset.reset_index(inplace=True, drop=True)"
   ]
  },
  {
   "cell_type": "code",
   "execution_count": 19,
   "metadata": {},
   "outputs": [],
   "source": [
    "# Impute missing values in TotalProsperLoans column\n",
    "loan_subset['TotalProsperLoans'] = loan_subset['TotalProsperLoans'].fillna(0)"
   ]
  },
  {
   "cell_type": "code",
   "execution_count": 20,
   "metadata": {},
   "outputs": [],
   "source": [
    "# convert to int datatype\n",
    "loan_subset['TotalProsperLoans'] = loan_subset['TotalProsperLoans'].astype(np.int64)\n",
    "loan_subset['DelinquenciesLast7Years'] = loan_subset['DelinquenciesLast7Years'].astype(np.int64)"
   ]
  },
  {
   "cell_type": "markdown",
   "metadata": {},
   "source": [
    "#### Test"
   ]
  },
  {
   "cell_type": "code",
   "execution_count": 21,
   "metadata": {},
   "outputs": [
    {
     "data": {
      "text/html": [
       "<div>\n",
       "<style scoped>\n",
       "    .dataframe tbody tr th:only-of-type {\n",
       "        vertical-align: middle;\n",
       "    }\n",
       "\n",
       "    .dataframe tbody tr th {\n",
       "        vertical-align: top;\n",
       "    }\n",
       "\n",
       "    .dataframe thead th {\n",
       "        text-align: right;\n",
       "    }\n",
       "</style>\n",
       "<table border=\"1\" class=\"dataframe\">\n",
       "  <thead>\n",
       "    <tr style=\"text-align: right;\">\n",
       "      <th></th>\n",
       "      <th>Term</th>\n",
       "      <th>LoanStatus</th>\n",
       "      <th>BorrowerAPR</th>\n",
       "      <th>ProsperRatingAlpha</th>\n",
       "      <th>ListingCategory</th>\n",
       "      <th>EmploymentStatus</th>\n",
       "      <th>DelinquenciesLast7Years</th>\n",
       "      <th>TotalProsperLoans</th>\n",
       "      <th>LoanOriginalAmount</th>\n",
       "      <th>LoanOriginationDate</th>\n",
       "      <th>Recommendations</th>\n",
       "    </tr>\n",
       "  </thead>\n",
       "  <tbody>\n",
       "    <tr>\n",
       "      <th>0</th>\n",
       "      <td>36</td>\n",
       "      <td>Current</td>\n",
       "      <td>0.12016</td>\n",
       "      <td>A</td>\n",
       "      <td>Home Improvement</td>\n",
       "      <td>Employed</td>\n",
       "      <td>0</td>\n",
       "      <td>0</td>\n",
       "      <td>10000</td>\n",
       "      <td>2014-03-03</td>\n",
       "      <td>0</td>\n",
       "    </tr>\n",
       "    <tr>\n",
       "      <th>1</th>\n",
       "      <td>36</td>\n",
       "      <td>Current</td>\n",
       "      <td>0.12528</td>\n",
       "      <td>A</td>\n",
       "      <td>Motorcycle</td>\n",
       "      <td>Employed</td>\n",
       "      <td>14</td>\n",
       "      <td>0</td>\n",
       "      <td>10000</td>\n",
       "      <td>2012-11-01</td>\n",
       "      <td>0</td>\n",
       "    </tr>\n",
       "    <tr>\n",
       "      <th>2</th>\n",
       "      <td>36</td>\n",
       "      <td>Current</td>\n",
       "      <td>0.24614</td>\n",
       "      <td>D</td>\n",
       "      <td>Home Improvement</td>\n",
       "      <td>Employed</td>\n",
       "      <td>0</td>\n",
       "      <td>1</td>\n",
       "      <td>15000</td>\n",
       "      <td>2013-09-20</td>\n",
       "      <td>0</td>\n",
       "    </tr>\n",
       "    <tr>\n",
       "      <th>3</th>\n",
       "      <td>60</td>\n",
       "      <td>Current</td>\n",
       "      <td>0.15425</td>\n",
       "      <td>B</td>\n",
       "      <td>Debt Consolidation</td>\n",
       "      <td>Employed</td>\n",
       "      <td>0</td>\n",
       "      <td>0</td>\n",
       "      <td>15000</td>\n",
       "      <td>2013-12-24</td>\n",
       "      <td>0</td>\n",
       "    </tr>\n",
       "    <tr>\n",
       "      <th>4</th>\n",
       "      <td>36</td>\n",
       "      <td>Current</td>\n",
       "      <td>0.31032</td>\n",
       "      <td>E</td>\n",
       "      <td>Debt Consolidation</td>\n",
       "      <td>Employed</td>\n",
       "      <td>0</td>\n",
       "      <td>0</td>\n",
       "      <td>3000</td>\n",
       "      <td>2013-04-18</td>\n",
       "      <td>0</td>\n",
       "    </tr>\n",
       "  </tbody>\n",
       "</table>\n",
       "</div>"
      ],
      "text/plain": [
       "   Term LoanStatus  BorrowerAPR ProsperRatingAlpha     ListingCategory  \\\n",
       "0    36    Current      0.12016                  A    Home Improvement   \n",
       "1    36    Current      0.12528                  A          Motorcycle   \n",
       "2    36    Current      0.24614                  D    Home Improvement   \n",
       "3    60    Current      0.15425                  B  Debt Consolidation   \n",
       "4    36    Current      0.31032                  E  Debt Consolidation   \n",
       "\n",
       "  EmploymentStatus  DelinquenciesLast7Years  TotalProsperLoans  \\\n",
       "0         Employed                        0                  0   \n",
       "1         Employed                       14                  0   \n",
       "2         Employed                        0                  1   \n",
       "3         Employed                        0                  0   \n",
       "4         Employed                        0                  0   \n",
       "\n",
       "   LoanOriginalAmount LoanOriginationDate  Recommendations  \n",
       "0               10000          2014-03-03                0  \n",
       "1               10000          2012-11-01                0  \n",
       "2               15000          2013-09-20                0  \n",
       "3               15000          2013-12-24                0  \n",
       "4                3000          2013-04-18                0  "
      ]
     },
     "execution_count": 21,
     "metadata": {},
     "output_type": "execute_result"
    }
   ],
   "source": [
    "loan_subset.head()"
   ]
  },
  {
   "cell_type": "code",
   "execution_count": 22,
   "metadata": {},
   "outputs": [
    {
     "name": "stdout",
     "output_type": "stream",
     "text": [
      "<class 'pandas.core.frame.DataFrame'>\n",
      "RangeIndex: 84853 entries, 0 to 84852\n",
      "Data columns (total 11 columns):\n",
      " #   Column                   Non-Null Count  Dtype         \n",
      "---  ------                   --------------  -----         \n",
      " 0   Term                     84853 non-null  int64         \n",
      " 1   LoanStatus               84853 non-null  category      \n",
      " 2   BorrowerAPR              84853 non-null  float64       \n",
      " 3   ProsperRatingAlpha       84853 non-null  category      \n",
      " 4   ListingCategory          84853 non-null  category      \n",
      " 5   EmploymentStatus         84853 non-null  category      \n",
      " 6   DelinquenciesLast7Years  84853 non-null  int64         \n",
      " 7   TotalProsperLoans        84853 non-null  int64         \n",
      " 8   LoanOriginalAmount       84853 non-null  int64         \n",
      " 9   LoanOriginationDate      84853 non-null  datetime64[ns]\n",
      " 10  Recommendations          84853 non-null  int64         \n",
      "dtypes: category(4), datetime64[ns](1), float64(1), int64(5)\n",
      "memory usage: 4.9 MB\n"
     ]
    }
   ],
   "source": [
    "loan_subset.info()"
   ]
  },
  {
   "cell_type": "code",
   "execution_count": 23,
   "metadata": {},
   "outputs": [
    {
     "data": {
      "text/html": [
       "<div>\n",
       "<style scoped>\n",
       "    .dataframe tbody tr th:only-of-type {\n",
       "        vertical-align: middle;\n",
       "    }\n",
       "\n",
       "    .dataframe tbody tr th {\n",
       "        vertical-align: top;\n",
       "    }\n",
       "\n",
       "    .dataframe thead th {\n",
       "        text-align: right;\n",
       "    }\n",
       "</style>\n",
       "<table border=\"1\" class=\"dataframe\">\n",
       "  <thead>\n",
       "    <tr style=\"text-align: right;\">\n",
       "      <th></th>\n",
       "      <th>Term</th>\n",
       "      <th>BorrowerAPR</th>\n",
       "      <th>DelinquenciesLast7Years</th>\n",
       "      <th>TotalProsperLoans</th>\n",
       "      <th>LoanOriginalAmount</th>\n",
       "      <th>Recommendations</th>\n",
       "    </tr>\n",
       "  </thead>\n",
       "  <tbody>\n",
       "    <tr>\n",
       "      <th>count</th>\n",
       "      <td>84853.000000</td>\n",
       "      <td>84853.000000</td>\n",
       "      <td>84853.000000</td>\n",
       "      <td>84853.000000</td>\n",
       "      <td>84853.000000</td>\n",
       "      <td>84853.000000</td>\n",
       "    </tr>\n",
       "    <tr>\n",
       "      <th>mean</th>\n",
       "      <td>42.486135</td>\n",
       "      <td>0.226658</td>\n",
       "      <td>3.659435</td>\n",
       "      <td>0.340789</td>\n",
       "      <td>9083.440515</td>\n",
       "      <td>0.017560</td>\n",
       "    </tr>\n",
       "    <tr>\n",
       "      <th>std</th>\n",
       "      <td>11.640346</td>\n",
       "      <td>0.079916</td>\n",
       "      <td>9.347957</td>\n",
       "      <td>0.726235</td>\n",
       "      <td>6287.860058</td>\n",
       "      <td>0.187963</td>\n",
       "    </tr>\n",
       "    <tr>\n",
       "      <th>min</th>\n",
       "      <td>12.000000</td>\n",
       "      <td>0.045830</td>\n",
       "      <td>0.000000</td>\n",
       "      <td>0.000000</td>\n",
       "      <td>1000.000000</td>\n",
       "      <td>0.000000</td>\n",
       "    </tr>\n",
       "    <tr>\n",
       "      <th>25%</th>\n",
       "      <td>36.000000</td>\n",
       "      <td>0.163280</td>\n",
       "      <td>0.000000</td>\n",
       "      <td>0.000000</td>\n",
       "      <td>4000.000000</td>\n",
       "      <td>0.000000</td>\n",
       "    </tr>\n",
       "    <tr>\n",
       "      <th>50%</th>\n",
       "      <td>36.000000</td>\n",
       "      <td>0.219450</td>\n",
       "      <td>0.000000</td>\n",
       "      <td>0.000000</td>\n",
       "      <td>7500.000000</td>\n",
       "      <td>0.000000</td>\n",
       "    </tr>\n",
       "    <tr>\n",
       "      <th>75%</th>\n",
       "      <td>60.000000</td>\n",
       "      <td>0.292540</td>\n",
       "      <td>2.000000</td>\n",
       "      <td>0.000000</td>\n",
       "      <td>13500.000000</td>\n",
       "      <td>0.000000</td>\n",
       "    </tr>\n",
       "    <tr>\n",
       "      <th>max</th>\n",
       "      <td>60.000000</td>\n",
       "      <td>0.423950</td>\n",
       "      <td>99.000000</td>\n",
       "      <td>8.000000</td>\n",
       "      <td>35000.000000</td>\n",
       "      <td>19.000000</td>\n",
       "    </tr>\n",
       "  </tbody>\n",
       "</table>\n",
       "</div>"
      ],
      "text/plain": [
       "               Term   BorrowerAPR  DelinquenciesLast7Years  TotalProsperLoans  \\\n",
       "count  84853.000000  84853.000000             84853.000000       84853.000000   \n",
       "mean      42.486135      0.226658                 3.659435           0.340789   \n",
       "std       11.640346      0.079916                 9.347957           0.726235   \n",
       "min       12.000000      0.045830                 0.000000           0.000000   \n",
       "25%       36.000000      0.163280                 0.000000           0.000000   \n",
       "50%       36.000000      0.219450                 0.000000           0.000000   \n",
       "75%       60.000000      0.292540                 2.000000           0.000000   \n",
       "max       60.000000      0.423950                99.000000           8.000000   \n",
       "\n",
       "       LoanOriginalAmount  Recommendations  \n",
       "count        84853.000000     84853.000000  \n",
       "mean          9083.440515         0.017560  \n",
       "std           6287.860058         0.187963  \n",
       "min           1000.000000         0.000000  \n",
       "25%           4000.000000         0.000000  \n",
       "50%           7500.000000         0.000000  \n",
       "75%          13500.000000         0.000000  \n",
       "max          35000.000000        19.000000  "
      ]
     },
     "execution_count": 23,
     "metadata": {},
     "output_type": "execute_result"
    }
   ],
   "source": [
    "loan_subset.describe()"
   ]
  },
  {
   "cell_type": "markdown",
   "metadata": {},
   "source": [
    "<a id=\"s2\"></a>\n",
    "## Step 2: Data Exploring"
   ]
  },
  {
   "cell_type": "markdown",
   "metadata": {},
   "source": [
    "<a id=\"s2.1\"></a>\n",
    "### Step 2.1: Univariate Exploring\n",
    "\n",
    "In this univariate exploration, the primary interests is to find out the distribution of each variable so as to pick which variable(s) is helpful in further bivariate analysis."
   ]
  },
  {
   "cell_type": "code",
   "execution_count": 24,
   "metadata": {},
   "outputs": [],
   "source": [
    "# Set plotting color\n",
    "base_color = sns.color_palette()[0]"
   ]
  },
  {
   "cell_type": "code",
   "execution_count": 25,
   "metadata": {},
   "outputs": [
    {
     "data": {
      "image/png": "[encoded data removed]",
      "text/plain": [
       "<Figure size 432x288 with 1 Axes>"
      ]
     },
     "metadata": {
      "needs_background": "light"
     },
     "output_type": "display_data"
    }
   ],
   "source": [
    "# Term disttibution\n",
    "sns.countplot(data=loan_subset, x='Term', color=base_color);"
   ]
  },
  {
   "cell_type": "markdown",
   "metadata": {},
   "source": [
    "The most common loan term is **36** months, while the least common one is **12**."
   ]
  },
  {
   "cell_type": "code",
   "execution_count": 26,
   "metadata": {},
   "outputs": [
    {
     "data": {
      "image/png": "[encoded data removed]",
      "text/plain": [
       "<Figure size 1080x720 with 1 Axes>"
      ]
     },
     "metadata": {
      "needs_background": "light"
     },
     "output_type": "display_data"
    }
   ],
   "source": [
    "# LoanStatus distribution\n",
    "plt.figure(figsize=(15, 10))\n",
    "sns.countplot(data=loan_subset, y='LoanStatus', color=base_color);"
   ]
  },
  {
   "cell_type": "markdown",
   "metadata": {},
   "source": [
    "The majority are **Current** loans. **Completed** and **Chargedoff** loans come next."
   ]
  },
  {
   "cell_type": "code",
   "execution_count": 27,
   "metadata": {},
   "outputs": [
    {
     "data": {
      "image/png": "[encoded data removed]",
      "text/plain": [
       "<Figure size 432x288 with 1 Axes>"
      ]
     },
     "metadata": {
      "needs_background": "light"
     },
     "output_type": "display_data"
    }
   ],
   "source": [
    "# ProsperRatingAlpha distribution\n",
    "ratings = ['AA', 'A', 'B', 'C', 'D', 'E', 'HR']\n",
    "sns.countplot(data=loan_subset, x='ProsperRatingAlpha', color=base_color, order=ratings);"
   ]
  },
  {
   "cell_type": "markdown",
   "metadata": {},
   "source": [
    "ProsperRatingAlpha looks **normal** to me. **C** rating are most commmon, while **AA** and **HR** are least common ones."
   ]
  },
  {
   "cell_type": "code",
   "execution_count": 28,
   "metadata": {},
   "outputs": [
    {
     "data": {
      "image/png": "[encoded data removed]",
      "text/plain": [
       "<Figure size 1080x720 with 1 Axes>"
      ]
     },
     "metadata": {
      "needs_background": "light"
     },
     "output_type": "display_data"
    }
   ],
   "source": [
    "# ListingCategory distribution\n",
    "plt.figure(figsize=(15, 10))\n",
    "sns.countplot(data=loan_subset, y='ListingCategory', color=base_color);"
   ]
  },
  {
   "cell_type": "markdown",
   "metadata": {},
   "source": [
    "**Debt consolidation (1), Other (7), Home Improvement (2) and Business (3)** are the most common listings among borrowers."
   ]
  },
  {
   "cell_type": "code",
   "execution_count": 29,
   "metadata": {},
   "outputs": [
    {
     "data": {
      "image/png": "[encoded data removed]",
      "text/plain": [
       "<Figure size 1080x720 with 1 Axes>"
      ]
     },
     "metadata": {
      "needs_background": "light"
     },
     "output_type": "display_data"
    }
   ],
   "source": [
    "# EmploymentStatus distribution\n",
    "plt.figure(figsize=(15,10))\n",
    "sns.countplot(data=loan_subset, y='EmploymentStatus', color=base_color);"
   ]
  },
  {
   "cell_type": "markdown",
   "metadata": {},
   "source": [
    "The bulk of borrowers are **Employed**."
   ]
  },
  {
   "cell_type": "code",
   "execution_count": 30,
   "metadata": {},
   "outputs": [
    {
     "data": {
      "image/png": "[encoded data removed]",
      "text/plain": [
       "<Figure size 432x288 with 1 Axes>"
      ]
     },
     "metadata": {
      "needs_background": "light"
     },
     "output_type": "display_data"
    }
   ],
   "source": [
    "# TotalProsperLoans distribution\n",
    "sns.countplot(data=loan_subset, x='TotalProsperLoans', color=base_color);"
   ]
  },
  {
   "cell_type": "markdown",
   "metadata": {},
   "source": [
    "The majority are **first time borrowers**, while the minority have **existing loans of 1 to 2**. The maximum number of loans is **8**."
   ]
  },
  {
   "cell_type": "code",
   "execution_count": 31,
   "metadata": {},
   "outputs": [
    {
     "data": {
      "image/png": "[encoded data removed]",
      "text/plain": [
       "<Figure size 432x288 with 1 Axes>"
      ]
     },
     "metadata": {
      "needs_background": "light"
     },
     "output_type": "display_data"
    }
   ],
   "source": [
    "# Recommendations distribution\n",
    "sns.countplot(data=loan_subset, x='Recommendations', color=base_color);"
   ]
  },
  {
   "cell_type": "markdown",
   "metadata": {},
   "source": [
    "The majority of borrowers **rarely have any recommendation** while applying for loans."
   ]
  },
  {
   "cell_type": "code",
   "execution_count": 32,
   "metadata": {
    "scrolled": true
   },
   "outputs": [
    {
     "data": {
      "image/png": "[encoded data removed]",
      "text/plain": [
       "<Figure size 432x288 with 1 Axes>"
      ]
     },
     "metadata": {
      "needs_background": "light"
     },
     "output_type": "display_data"
    }
   ],
   "source": [
    "# BorrowerAPR distribution\n",
    "bins = np.arange(0, loan_subset['BorrowerAPR'].max()+ 0.05, 0.05)\n",
    "ticks = [0, 0.05, 0.1, 0.15, 0.2, 0.25, 0.3, 0.35, 0.4, 0.45]\n",
    "labels = ['{}'.format(val) for val in ticks]\n",
    "\n",
    "\n",
    "plt.hist(data=loan_subset, x='BorrowerAPR', bins=bins, color=base_color)\n",
    "plt.xticks(ticks, labels);"
   ]
  },
  {
   "cell_type": "markdown",
   "metadata": {},
   "source": [
    "The majority of BorrowerAPR are in the range between about **0.15 and 0.25**. Overall, a generally **bimodal** distribution is obseraved."
   ]
  },
  {
   "cell_type": "code",
   "execution_count": 33,
   "metadata": {},
   "outputs": [
    {
     "data": {
      "image/png": "[encoded data removed]",
      "text/plain": [
       "<Figure size 1080x720 with 1 Axes>"
      ]
     },
     "metadata": {
      "needs_background": "light"
     },
     "output_type": "display_data"
    }
   ],
   "source": [
    "# DelinquenciesLast7Years distribution\n",
    "plt.figure(figsize=(15, 10))\n",
    "plt.hist(data=loan_subset, x='DelinquenciesLast7Years', bins=20, color=base_color);"
   ]
  },
  {
   "cell_type": "markdown",
   "metadata": {},
   "source": [
    "The majority of borrowers have **0** deliquencies in the last 7 years. the minority have deliquencies between about **1 to 30**. The maximum number of deliquencies is **99**."
   ]
  },
  {
   "cell_type": "code",
   "execution_count": 34,
   "metadata": {},
   "outputs": [
    {
     "data": {
      "image/png": "[encoded data removed]",
      "text/plain": [
       "<Figure size 1080x720 with 1 Axes>"
      ]
     },
     "metadata": {
      "needs_background": "light"
     },
     "output_type": "display_data"
    }
   ],
   "source": [
    "# LoanOriginalAmount distribution\n",
    "plt.figure(figsize=(15,10))\n",
    "plt.hist(data=loan_subset, x='LoanOriginalAmount', bins=30, color=base_color);"
   ]
  },
  {
   "cell_type": "markdown",
   "metadata": {},
   "source": [
    "The majority of loan amount are about **4,000, 1000 or 15000**. "
   ]
  },
  {
   "cell_type": "code",
   "execution_count": 35,
   "metadata": {},
   "outputs": [
    {
     "data": {
      "image/png": "[encoded data removed]",
      "text/plain": [
       "<Figure size 1080x720 with 1 Axes>"
      ]
     },
     "metadata": {
      "needs_background": "light"
     },
     "output_type": "display_data"
    }
   ],
   "source": [
    "# LoanOriginationDate distribution\n",
    "plt.figure(figsize=(15,10))\n",
    "plt.hist(data=loan_subset, x='LoanOriginationDate', bins=56, color=base_color);"
   ]
  },
  {
   "cell_type": "markdown",
   "metadata": {},
   "source": [
    "In general, the number of loans **grows over time**. Starting from around 2013, there is a substancial growth in terms of the number of loans."
   ]
  },
  {
   "cell_type": "markdown",
   "metadata": {},
   "source": [
    "#### Define\n",
    "\n",
    "Through univariate exploration, loans with loan status of **Completed, Chargedoff or Defaulted** are of interests. Chargedoff can be considered as Defaulted in this context."
   ]
  },
  {
   "cell_type": "markdown",
   "metadata": {},
   "source": [
    "#### Code"
   ]
  },
  {
   "cell_type": "code",
   "execution_count": 36,
   "metadata": {},
   "outputs": [
    {
     "data": {
      "text/plain": [
       "Current                   56576\n",
       "Completed                 19664\n",
       "Chargedoff                 5336\n",
       "Defaulted                  1005\n",
       "Past Due (1-15 days)        806\n",
       "Past Due (31-60 days)       363\n",
       "Past Due (61-90 days)       313\n",
       "Past Due (91-120 days)      304\n",
       "Past Due (16-30 days)       265\n",
       "FinalPaymentInProgress      205\n",
       "Past Due (>120 days)         16\n",
       "Cancelled                     0\n",
       "Name: LoanStatus, dtype: int64"
      ]
     },
     "execution_count": 36,
     "metadata": {},
     "output_type": "execute_result"
    }
   ],
   "source": [
    "# Loan status distribution\n",
    "loan_subset.LoanStatus.value_counts()"
   ]
  },
  {
   "cell_type": "code",
   "execution_count": 37,
   "metadata": {},
   "outputs": [],
   "source": [
    "# Extract loan status of interest\n",
    "loan_status_filter = (loan_subset.LoanStatus == 'Completed') | (loan_subset.LoanStatus == 'Defaulted') | (loan_subset.LoanStatus == 'Chargedoff')\n",
    "loan_subset = loan_subset[loan_status_filter]\n",
    "\n",
    "# Re-encode the Chargedoff as Defaulted\n",
    "loan_subset['LoanStatus'] = loan_subset['LoanStatus'].apply(lambda x: 'Defaulted' if x == 'Chargedoff' else x)\n",
    "# Change to category datatype\n",
    "loan_subset.LoanStatus = loan_subset.LoanStatus.astype('category')"
   ]
  },
  {
   "cell_type": "markdown",
   "metadata": {},
   "source": [
    "#### Test"
   ]
  },
  {
   "cell_type": "code",
   "execution_count": 38,
   "metadata": {},
   "outputs": [
    {
     "data": {
      "text/plain": [
       "Completed    19664\n",
       "Defaulted     6341\n",
       "Name: LoanStatus, dtype: int64"
      ]
     },
     "execution_count": 38,
     "metadata": {},
     "output_type": "execute_result"
    }
   ],
   "source": [
    "loan_subset.LoanStatus.value_counts()"
   ]
  },
  {
   "cell_type": "markdown",
   "metadata": {},
   "source": [
    "#### Define\n",
    "\n",
    "The bulk of loans belong to a few categories in the ListingCategory variabl. Thus, the minority can be considered as others.\n",
    "\n",
    "- Re-encode the listing categories, categorize categories that are not in the bulk ('Debt Consolidation', 'Other', 'Home Improvement', 'Business', 'Auto') as **Other**."
   ]
  },
  {
   "cell_type": "markdown",
   "metadata": {},
   "source": [
    "#### Code"
   ]
  },
  {
   "cell_type": "code",
   "execution_count": 39,
   "metadata": {},
   "outputs": [
    {
     "data": {
      "text/plain": [
       "Debt Consolidation    12740\n",
       "Other                  4766\n",
       "Home Improvement       2612\n",
       "Business               2366\n",
       "Auto                   1204\n",
       "Household Expenses      597\n",
       "Medical/Dental          370\n",
       "Student Use             274\n",
       "Taxes                   214\n",
       "Vacation                198\n",
       "Large Purchases         181\n",
       "Wedding Loans           171\n",
       "Motorcycle               94\n",
       "Engagement Ring          63\n",
       "Cosmetic Procedure       44\n",
       "Baby&Adoption            40\n",
       "Boat                     28\n",
       "Green Loans              19\n",
       "RV                       17\n",
       "Not Available             7\n",
       "Personal Loan             0\n",
       "Name: ListingCategory, dtype: int64"
      ]
     },
     "execution_count": 39,
     "metadata": {},
     "output_type": "execute_result"
    }
   ],
   "source": [
    "loan_subset.ListingCategory.value_counts()"
   ]
  },
  {
   "cell_type": "code",
   "execution_count": 40,
   "metadata": {},
   "outputs": [
    {
     "data": {
      "text/plain": [
       "['Debt Consolidation', 'Other', 'Home Improvement', 'Business', 'Auto']"
      ]
     },
     "execution_count": 40,
     "metadata": {},
     "output_type": "execute_result"
    }
   ],
   "source": [
    "# The bulk categories of ListingCategory\n",
    "listing_cat_bulk = list(loan_subset.ListingCategory.value_counts().index)[:5]\n",
    "listing_cat_bulk"
   ]
  },
  {
   "cell_type": "code",
   "execution_count": 41,
   "metadata": {},
   "outputs": [],
   "source": [
    "# Re-encode\n",
    "loan_subset.ListingCategory = loan_subset.ListingCategory.apply(lambda x: 'Other' if x not in listing_cat_bulk else x)\n",
    "loan_subset.ListingCategory = loan_subset.ListingCategory.astype('category')"
   ]
  },
  {
   "cell_type": "markdown",
   "metadata": {},
   "source": [
    "#### Test"
   ]
  },
  {
   "cell_type": "code",
   "execution_count": 42,
   "metadata": {},
   "outputs": [
    {
     "data": {
      "text/plain": [
       "Debt Consolidation    12740\n",
       "Other                  7083\n",
       "Home Improvement       2612\n",
       "Business               2366\n",
       "Auto                   1204\n",
       "Name: ListingCategory, dtype: int64"
      ]
     },
     "execution_count": 42,
     "metadata": {},
     "output_type": "execute_result"
    }
   ],
   "source": [
    "loan_subset.ListingCategory.value_counts()"
   ]
  },
  {
   "cell_type": "markdown",
   "metadata": {},
   "source": [
    "<a id=\"s2.2\"></a>\n",
    "### Step 2.2: Bivariate Exploring\n",
    "\n",
    "Firstly, let's take a quick look at the correlations between numerical variables."
   ]
  },
  {
   "cell_type": "code",
   "execution_count": 43,
   "metadata": {},
   "outputs": [
    {
     "data": {
      "image/png": "[encoded data removed]",
      "text/plain": [
       "<Figure size 720x720 with 2 Axes>"
      ]
     },
     "metadata": {
      "needs_background": "light"
     },
     "output_type": "display_data"
    }
   ],
   "source": [
    "# Correlations between pairs of numerical features\n",
    "plt.figure(figsize=(10,10))\n",
    "sns.heatmap(loan_subset.corr(), annot=True, fmt='.2f', cmap='viridis', center=0);"
   ]
  },
  {
   "cell_type": "markdown",
   "metadata": {},
   "source": [
    "- **BorrowerAPR** and **LoanOriginalAmount**, **LoanOriginalAmount** and **Term** are modetely correlated.\n",
    "- **TotalProsperLoans** and **Recommedations**, **DelinquenciesLast7Years** and **BorrowerAPR**, **DelinquenciesLast7Years** and **LoanOriginalAmount** are weakly correlated. "
   ]
  },
  {
   "cell_type": "markdown",
   "metadata": {},
   "source": [
    "Then, it's time to find out what factor(s) affect the loan status outcome."
   ]
  },
  {
   "cell_type": "code",
   "execution_count": 44,
   "metadata": {},
   "outputs": [
    {
     "data": {
      "image/png": "[encoded data removed]",
      "text/plain": [
       "<Figure size 432x288 with 1 Axes>"
      ]
     },
     "metadata": {
      "needs_background": "light"
     },
     "output_type": "display_data"
    }
   ],
   "source": [
    "# LoanStatus vs. Term\n",
    "sns.countplot(data=loan_subset, x='LoanStatus', hue='Term');"
   ]
  },
  {
   "cell_type": "markdown",
   "metadata": {},
   "source": [
    "There is no obvious relationship between these two variables."
   ]
  },
  {
   "cell_type": "code",
   "execution_count": 45,
   "metadata": {},
   "outputs": [
    {
     "data": {
      "image/png": "[encoded data removed]",
      "text/plain": [
       "<Figure size 432x288 with 1 Axes>"
      ]
     },
     "metadata": {
      "needs_background": "light"
     },
     "output_type": "display_data"
    }
   ],
   "source": [
    "# LoanStatus vs. BorrowerAPR\n",
    "sns.boxplot(data=loan_subset, x='LoanStatus', y='BorrowerAPR');"
   ]
  },
  {
   "cell_type": "markdown",
   "metadata": {},
   "source": [
    "Defaulted loans tend to have **higher BorrowerAPR**."
   ]
  },
  {
   "cell_type": "code",
   "execution_count": 46,
   "metadata": {},
   "outputs": [
    {
     "data": {
      "image/png": "[encoded data removed]",
      "text/plain": [
       "<Figure size 432x288 with 1 Axes>"
      ]
     },
     "metadata": {
      "needs_background": "light"
     },
     "output_type": "display_data"
    }
   ],
   "source": [
    "# LoanStatus vs. ProsperRatingAlpha \n",
    "sns.countplot(data=loan_subset, x='LoanStatus', hue='ProsperRatingAlpha', hue_order=ratings);"
   ]
  },
  {
   "cell_type": "markdown",
   "metadata": {},
   "source": [
    "The most common Prosper rating is **D** in both defaulted and complted loans. Among defaulted loans, there are **more HR ratings than E ones** and **more B ratings than A ones**, while it is the **opposite** in completed loans."
   ]
  },
  {
   "cell_type": "code",
   "execution_count": 47,
   "metadata": {},
   "outputs": [
    {
     "data": {
      "image/png": "[encoded data removed]",
      "text/plain": [
       "<Figure size 432x288 with 1 Axes>"
      ]
     },
     "metadata": {
      "needs_background": "light"
     },
     "output_type": "display_data"
    }
   ],
   "source": [
    "# LoanStatus vs. ListingCategory \n",
    "sns.countplot(data=loan_subset, x='LoanStatus', hue='ListingCategory');"
   ]
  },
  {
   "cell_type": "markdown",
   "metadata": {},
   "source": [
    "The most common listing category is **Debt Consolidation** in both defaulted or completed loans."
   ]
  },
  {
   "cell_type": "code",
   "execution_count": 48,
   "metadata": {},
   "outputs": [
    {
     "data": {
      "image/png": "[encoded data removed]",
      "text/plain": [
       "<Figure size 720x720 with 1 Axes>"
      ]
     },
     "metadata": {
      "needs_background": "light"
     },
     "output_type": "display_data"
    }
   ],
   "source": [
    "# LoanStatus vs. EmploymentStatus \n",
    "plt.figure(figsize=(10, 10))\n",
    "sns.countplot(data=loan_subset, x='LoanStatus', hue='EmploymentStatus');"
   ]
  },
  {
   "cell_type": "markdown",
   "metadata": {},
   "source": [
    "Defaulted loans have lower number of employment status associated with Employed or Full-time."
   ]
  },
  {
   "cell_type": "code",
   "execution_count": 49,
   "metadata": {},
   "outputs": [
    {
     "data": {
      "image/png": "[encoded data removed]",
      "text/plain": [
       "<Figure size 720x720 with 1 Axes>"
      ]
     },
     "metadata": {
      "needs_background": "light"
     },
     "output_type": "display_data"
    }
   ],
   "source": [
    "# LoanStatus vs. DelinquenciesLast7Years \n",
    "plt.figure(figsize=(10,10))\n",
    "sns.boxplot(data=loan_subset, x='LoanStatus', y='DelinquenciesLast7Years');"
   ]
  },
  {
   "cell_type": "markdown",
   "metadata": {},
   "source": [
    "Defaulted loans have wider IQR in terms of number of deliquencies in the last 7 years than complted ones"
   ]
  },
  {
   "cell_type": "code",
   "execution_count": 50,
   "metadata": {},
   "outputs": [
    {
     "data": {
      "image/png": "[encoded data removed]",
      "text/plain": [
       "<Figure size 432x288 with 1 Axes>"
      ]
     },
     "metadata": {
      "needs_background": "light"
     },
     "output_type": "display_data"
    }
   ],
   "source": [
    "# LoanStatus vs. TotalProsperLoans \n",
    "sns.boxplot(data=loan_subset, x='LoanStatus', y='TotalProsperLoans');"
   ]
  },
  {
   "cell_type": "markdown",
   "metadata": {},
   "source": [
    "There is no obvious relationship between these two variables."
   ]
  },
  {
   "cell_type": "code",
   "execution_count": 51,
   "metadata": {},
   "outputs": [
    {
     "data": {
      "image/png": "[encoded data removed]",
      "text/plain": [
       "<Figure size 432x288 with 1 Axes>"
      ]
     },
     "metadata": {
      "needs_background": "light"
     },
     "output_type": "display_data"
    }
   ],
   "source": [
    "# LoanStatus vs. LoanOriginalAmount \n",
    "sns.boxplot(data=loan_subset, x='LoanStatus', y='LoanOriginalAmount');"
   ]
  },
  {
   "cell_type": "markdown",
   "metadata": {},
   "source": [
    "Defaulted loans tend to have **lower** original loan amount."
   ]
  },
  {
   "cell_type": "code",
   "execution_count": 52,
   "metadata": {},
   "outputs": [
    {
     "data": {
      "image/png": "[encoded data removed]",
      "text/plain": [
       "<Figure size 720x720 with 1 Axes>"
      ]
     },
     "metadata": {
      "needs_background": "light"
     },
     "output_type": "display_data"
    }
   ],
   "source": [
    "# LoanStatus vs. Recommendations \n",
    "plt.figure(figsize=(10,10))\n",
    "sns.violinplot(data=loan_subset, x='LoanStatus', y='Recommendations');"
   ]
  },
  {
   "cell_type": "markdown",
   "metadata": {},
   "source": [
    "There is no obvious relationship between these two variables."
   ]
  },
  {
   "cell_type": "markdown",
   "metadata": {},
   "source": [
    "Furthermore, it's time to find out what factor(s) affect the borrower APR."
   ]
  },
  {
   "cell_type": "code",
   "execution_count": 53,
   "metadata": {},
   "outputs": [
    {
     "data": {
      "image/png": "[encoded data removed]",
      "text/plain": [
       "<Figure size 432x288 with 1 Axes>"
      ]
     },
     "metadata": {
      "needs_background": "light"
     },
     "output_type": "display_data"
    }
   ],
   "source": [
    "# BorrowerAPR vs. ProsperRatingAlpha\n",
    "sns.boxplot(data=loan_subset, x='ProsperRatingAlpha', y='BorrowerAPR', order=ratings);"
   ]
  },
  {
   "cell_type": "markdown",
   "metadata": {},
   "source": [
    "The **better** the ratings, the **lower** the APR. "
   ]
  },
  {
   "cell_type": "code",
   "execution_count": 54,
   "metadata": {},
   "outputs": [
    {
     "data": {
      "image/png": "[encoded data removed]",
      "text/plain": [
       "<Figure size 432x288 with 1 Axes>"
      ]
     },
     "metadata": {
      "needs_background": "light"
     },
     "output_type": "display_data"
    }
   ],
   "source": [
    "# BorrowerAPR vs. ListingCategory\n",
    "sns.boxplot(data=loan_subset, x='ListingCategory', y='BorrowerAPR')\n",
    "plt.xticks(rotation=30);"
   ]
  },
  {
   "cell_type": "markdown",
   "metadata": {},
   "source": [
    "Listing categories **Debt Consolidation and Home Improvement** tend to have **lower** APR."
   ]
  },
  {
   "cell_type": "code",
   "execution_count": 55,
   "metadata": {},
   "outputs": [
    {
     "data": {
      "image/png": "[encoded data removed]",
      "text/plain": [
       "<Figure size 432x288 with 1 Axes>"
      ]
     },
     "metadata": {
      "needs_background": "light"
     },
     "output_type": "display_data"
    }
   ],
   "source": [
    "# BorrowerAPR vs. EmploymentStatus\n",
    "sns.boxplot(data=loan_subset, x='EmploymentStatus', y='BorrowerAPR')\n",
    "plt.xticks(rotation=30);"
   ]
  },
  {
   "cell_type": "markdown",
   "metadata": {},
   "source": [
    "**Full-time** employment status tends to have **lower** APR."
   ]
  },
  {
   "cell_type": "markdown",
   "metadata": {},
   "source": [
    "Finally, let's find out what factor(s) affect Prosper's ratings."
   ]
  },
  {
   "cell_type": "code",
   "execution_count": 56,
   "metadata": {},
   "outputs": [
    {
     "data": {
      "image/png": "[encoded data removed]",
      "text/plain": [
       "<Figure size 720x720 with 1 Axes>"
      ]
     },
     "metadata": {
      "needs_background": "light"
     },
     "output_type": "display_data"
    }
   ],
   "source": [
    "# ProsperRatingAlpha vs. Term\n",
    "plt.figure(figsize=(10,10))\n",
    "sns.countplot(data=loan_subset, x='ProsperRatingAlpha', hue='Term', order=ratings);"
   ]
  },
  {
   "cell_type": "markdown",
   "metadata": {},
   "source": [
    "The most common term is **36 months** among all ratings. There is **no obvious relationship** between these two variabels."
   ]
  },
  {
   "cell_type": "code",
   "execution_count": 57,
   "metadata": {},
   "outputs": [
    {
     "data": {
      "image/png": "[encoded data removed]",
      "text/plain": [
       "<Figure size 720x720 with 1 Axes>"
      ]
     },
     "metadata": {
      "needs_background": "light"
     },
     "output_type": "display_data"
    }
   ],
   "source": [
    "# ProsperRatingAlpha vs. ListingCategory\n",
    "plt.figure(figsize=(10,10))\n",
    "sns.countplot(data=loan_subset, x='ProsperRatingAlpha', hue='ListingCategory', order=ratings);"
   ]
  },
  {
   "cell_type": "markdown",
   "metadata": {},
   "source": [
    "The most common listing category is **Debt Consolidation and Other**. There is **no obvious relationship** between these two variabels."
   ]
  },
  {
   "cell_type": "code",
   "execution_count": 58,
   "metadata": {},
   "outputs": [
    {
     "data": {
      "image/png": "[encoded data removed]",
      "text/plain": [
       "<Figure size 720x720 with 1 Axes>"
      ]
     },
     "metadata": {
      "needs_background": "light"
     },
     "output_type": "display_data"
    }
   ],
   "source": [
    "# ProsperRatingAlpha vs. EmploymentStatus\n",
    "plt.figure(figsize=(10,10))\n",
    "sns.countplot(data=loan_subset, x='ProsperRatingAlpha', hue='EmploymentStatus', order=ratings);"
   ]
  },
  {
   "cell_type": "markdown",
   "metadata": {},
   "source": [
    "Lower ratings tend to have more employment status associated with **Not employed, Other, Part-time, Retired and Self-empoyed**."
   ]
  },
  {
   "cell_type": "code",
   "execution_count": 59,
   "metadata": {},
   "outputs": [
    {
     "data": {
      "image/png": "[encoded data removed]",
      "text/plain": [
       "<Figure size 720x720 with 1 Axes>"
      ]
     },
     "metadata": {
      "needs_background": "light"
     },
     "output_type": "display_data"
    }
   ],
   "source": [
    "# ProsperRatingAlpha vs. DelinquenciesLast7Years\n",
    "plt.figure(figsize=(10,10))\n",
    "sns.boxplot(data=loan_subset, x='ProsperRatingAlpha', y='DelinquenciesLast7Years', order=ratings);"
   ]
  },
  {
   "cell_type": "markdown",
   "metadata": {},
   "source": [
    "Lower ratings tend to have **higher** number of deliquencies in last 7 years."
   ]
  },
  {
   "cell_type": "code",
   "execution_count": 60,
   "metadata": {},
   "outputs": [
    {
     "data": {
      "image/png": "[encoded data removed]",
      "text/plain": [
       "<Figure size 720x720 with 1 Axes>"
      ]
     },
     "metadata": {
      "needs_background": "light"
     },
     "output_type": "display_data"
    }
   ],
   "source": [
    "# ProsperRatingAlpha vs. TotalProsperLoans\n",
    "plt.figure(figsize=(10,10))\n",
    "sns.boxplot(data=loan_subset, x='ProsperRatingAlpha', y='TotalProsperLoans', order=ratings);"
   ]
  },
  {
   "cell_type": "markdown",
   "metadata": {},
   "source": [
    "There is no obvious relationship between these two variabels."
   ]
  },
  {
   "cell_type": "code",
   "execution_count": 61,
   "metadata": {},
   "outputs": [
    {
     "data": {
      "image/png": "[encoded data removed]",
      "text/plain": [
       "<Figure size 720x720 with 1 Axes>"
      ]
     },
     "metadata": {
      "needs_background": "light"
     },
     "output_type": "display_data"
    }
   ],
   "source": [
    "# ProsperRatingAlpha vs. LoanOriginalAmount\n",
    "plt.figure(figsize=(10,10))\n",
    "sns.boxplot(data=loan_subset, x='ProsperRatingAlpha', y='LoanOriginalAmount', order=ratings);"
   ]
  },
  {
   "cell_type": "markdown",
   "metadata": {},
   "source": [
    "Lower ratings tend to have lower original loan amount."
   ]
  },
  {
   "cell_type": "code",
   "execution_count": 62,
   "metadata": {},
   "outputs": [
    {
     "data": {
      "image/png": "[encoded data removed]",
      "text/plain": [
       "<Figure size 720x720 with 1 Axes>"
      ]
     },
     "metadata": {
      "needs_background": "light"
     },
     "output_type": "display_data"
    }
   ],
   "source": [
    "# ProsperRatingAlpha vs. Recommendations \n",
    "plt.figure(figsize=(10,10))\n",
    "sns.violinplot(data=loan_subset, x='ProsperRatingAlpha', y='Recommendations', order=ratings);"
   ]
  },
  {
   "cell_type": "markdown",
   "metadata": {},
   "source": [
    "There is no obvious relationship between these two variabels."
   ]
  },
  {
   "cell_type": "markdown",
   "metadata": {},
   "source": [
    "<a id=\"s2.3\"></a>\n",
    "### Step 2.3: Multivariate Exploring\n",
    "\n",
    "As a final stage of the exploration, let's take a closer look at the relationship between Loan Status, Loan Original Amount, Borrower APR and Listing Category."
   ]
  },
  {
   "cell_type": "code",
   "execution_count": 63,
   "metadata": {},
   "outputs": [
    {
     "data": {
      "image/png": "[encoded data removed]",
      "text/plain": [
       "<Figure size 720x720 with 1 Axes>"
      ]
     },
     "metadata": {
      "needs_background": "light"
     },
     "output_type": "display_data"
    }
   ],
   "source": [
    "# BorrowerAPR vs. LoanOriginalAmount vs. LoanStatus\n",
    "markers = [['Completed', 's'], ['Defaulted', '^']]\n",
    "plt.figure(figsize=(10,10))\n",
    "for cat, marker in markers:\n",
    "    loan_cat = loan_subset[loan_subset['LoanStatus']==cat]\n",
    "    plt.scatter(data=loan_cat, x='LoanOriginalAmount', y='BorrowerAPR', marker=marker)\n",
    "plt.xlabel('Loan Original Amount')\n",
    "plt.ylabel('Borrower APR')\n",
    "plt.legend(['Completed', 'Defaulted']);"
   ]
  },
  {
   "cell_type": "markdown",
   "metadata": {},
   "source": [
    "For a given loan amount, borrower APR tends to be **lower in completed loans** than that in defaulted ones."
   ]
  },
  {
   "cell_type": "code",
   "execution_count": 64,
   "metadata": {},
   "outputs": [
    {
     "data": {
      "image/png": "[encoded data removed]",
      "text/plain": [
       "<Figure size 1080x720 with 1 Axes>"
      ]
     },
     "metadata": {
      "needs_background": "light"
     },
     "output_type": "display_data"
    }
   ],
   "source": [
    "# LoanOriginalAmount vs. ListingCategory vs. LoanStatus\n",
    "plt.figure(figsize=(15,10))\n",
    "sns.barplot(data=loan_subset, x='ListingCategory', y='LoanOriginalAmount', hue='LoanStatus');"
   ]
  },
  {
   "cell_type": "markdown",
   "metadata": {},
   "source": [
    "Defaulted loans in Auto or Business categories tend to have have larger original loan amount."
   ]
  }
 ],
 "metadata": {
  "kernelspec": {
   "display_name": "Python 3",
   "language": "python",
   "name": "python3"
  },
  "language_info": {
   "codemirror_mode": {
    "name": "ipython",
    "version": 3
   },
   "file_extension": ".py",
   "mimetype": "text/x-python",
   "name": "python",
   "nbconvert_exporter": "python",
   "pygments_lexer": "ipython3",
   "version": "3.7.7"
  }
 },
 "nbformat": 4,
 "nbformat_minor": 4
}
